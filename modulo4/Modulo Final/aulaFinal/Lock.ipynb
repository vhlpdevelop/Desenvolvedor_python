{
 "cells": [
  {
   "cell_type": "code",
   "execution_count": 9,
   "id": "ff83cf9e-80f2-430b-b9d2-814a67db4b85",
   "metadata": {},
   "outputs": [
    {
     "name": "stdout",
     "output_type": "stream",
     "text": [
      "Você comprou: 1 de pão(es), ainda temos em estoque: 9 pão(es)\n",
      "Você comprou: 2 de pão(es), ainda temos em estoque: 7 pão(es)\n",
      "Você comprou: 3 de pão(es), ainda temos em estoque: 4 pão(es)\n",
      "Você comprou: 4 de pão(es), ainda temos em estoque: 0 pão(es)\n",
      "Nao temos paes suficientes!\n",
      "Nao temos paes suficientes!\n",
      "Nao temos paes suficientes!\n",
      "Nao temos paes suficientes!\n",
      "Nao temos paes suficientes!\n",
      "Nao temos paes suficientes!\n",
      "Nao temos paes suficientes!\n",
      "Nao temos paes suficientes!\n",
      "Nao temos paes suficientes!\n",
      "Nao temos paes suficientes!\n"
     ]
    }
   ],
   "source": [
    "#Usando threads dentro da padaria\n",
    "from time import sleep\n",
    "from threading import Thread,Lock\n",
    "\n",
    "class Paes:\n",
    "    def __init__(self,estoque):\n",
    "        self.estoque = estoque\n",
    "        self.lock = Lock() #Trancando\n",
    "\n",
    "    def comprar(self, quantidade):\n",
    "        self.lock.acquire() #Trancando quando comprar\n",
    "        if self.estoque < quantidade:\n",
    "            print(f'Nao temos paes suficientes!')\n",
    "            self.lock.release()\n",
    "            return \n",
    "        #Verificando falha de tempo no processo\n",
    "        sleep(1) #Isso causa um caos\n",
    "        self.estoque -= quantidade\n",
    "        print(f'Você comprou: {quantidade} de pão(es), ainda temos em estoque: {self.estoque} pão(es)')\n",
    "        self.lock.release()\n",
    "if __name__ == '__main__':\n",
    "    paes = Paes(10)\n",
    "    for i in range(1,15): #Usar threads dentro do comprar\n",
    "        t=Thread(target = paes.comprar, args=(i,))\n",
    "        t.start()"
   ]
  },
  {
   "cell_type": "code",
   "execution_count": null,
   "id": "26ce80fa-e382-4e0f-8b54-8ffe7cf12f07",
   "metadata": {},
   "outputs": [],
   "source": [
    "#Usando threads"
   ]
  }
 ],
 "metadata": {
  "kernelspec": {
   "display_name": "analise_dados",
   "language": "python",
   "name": "analise_dados"
  },
  "language_info": {
   "codemirror_mode": {
    "name": "ipython",
    "version": 3
   },
   "file_extension": ".py",
   "mimetype": "text/x-python",
   "name": "python",
   "nbconvert_exporter": "python",
   "pygments_lexer": "ipython3",
   "version": "3.12.2"
  }
 },
 "nbformat": 4,
 "nbformat_minor": 5
}
