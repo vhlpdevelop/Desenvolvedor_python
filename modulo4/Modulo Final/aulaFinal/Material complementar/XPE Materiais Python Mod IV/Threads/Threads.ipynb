{
 "cells": [
  {
   "cell_type": "markdown",
   "id": "1b33aa7e",
   "metadata": {},
   "source": [
    "### Iniciar e terminar uma threads"
   ]
  },
  {
   "cell_type": "code",
   "execution_count": 3,
   "id": "d3fe2542",
   "metadata": {},
   "outputs": [
    {
     "name": "stdout",
     "output_type": "stream",
     "text": [
      "T-menos 10\n"
     ]
    }
   ],
   "source": [
    "# Uma threadming independente\n",
    "import time\n",
    "def contador(n):\n",
    "    print('T-menos', n)\n",
    "    n -= 1\n",
    "    time.sleep(5)\n",
    "from threading import Thread\n",
    "t = Thread(target = contador, args=(10,))\n",
    "t.start()"
   ]
  },
  {
   "cell_type": "code",
   "execution_count": null,
   "id": "95759510",
   "metadata": {},
   "outputs": [],
   "source": []
  }
 ],
 "metadata": {
  "kernelspec": {
   "display_name": "Python 3 (ipykernel)",
   "language": "python",
   "name": "python3"
  },
  "language_info": {
   "codemirror_mode": {
    "name": "ipython",
    "version": 3
   },
   "file_extension": ".py",
   "mimetype": "text/x-python",
   "name": "python",
   "nbconvert_exporter": "python",
   "pygments_lexer": "ipython3",
   "version": "3.9.7"
  }
 },
 "nbformat": 4,
 "nbformat_minor": 5
}
