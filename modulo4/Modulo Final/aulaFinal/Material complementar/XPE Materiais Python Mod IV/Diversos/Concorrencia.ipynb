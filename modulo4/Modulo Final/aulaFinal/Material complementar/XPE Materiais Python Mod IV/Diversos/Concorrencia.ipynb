{
 "cells": [
  {
   "cell_type": "code",
   "execution_count": 1,
   "id": "d28d6316",
   "metadata": {},
   "outputs": [],
   "source": [
    "import threading\n",
    "import time\n",
    "\n",
    "\n",
    "class MyThread(threading.Thread):\n",
    "    def __init__(self, name, delay):\n",
    "        threading.Thread.__init__(self)\n",
    "        self.name = name\n",
    "        self.delay = delay\n",
    "\n",
    "    def run(self):\n",
    "        print('Iniciando thread %s.' % self.name)\n",
    "        thread_count_down(self.name, self.delay)\n",
    "        print('Finalizando thread %s.' % self.name)\n",
    "\n",
    "def thread_count_down(name, delay):\n",
    "    counter = 5\n",
    "\n",
    "    while counter:\n",
    "        time.sleep(delay)\n",
    "        print('Thread %s contagem decrescente: %i...' % (name, counter))\n",
    "        counter -= 1"
   ]
  },
  {
   "cell_type": "code",
   "execution_count": 2,
   "id": "60837d84",
   "metadata": {},
   "outputs": [
    {
     "name": "stdout",
     "output_type": "stream",
     "text": [
      "Iniciando thread A.\n",
      "Iniciando thread B.\n",
      "Thread B contagem decrescente: 5...Thread A contagem decrescente: 5...\n",
      "\n",
      "Thread A contagem decrescente: 4...Thread B contagem decrescente: 4...\n",
      "\n",
      "Thread A contagem decrescente: 3...Thread B contagem decrescente: 3...\n",
      "\n",
      "Thread B contagem decrescente: 2...\n",
      "Thread A contagem decrescente: 2...\n",
      "Thread A contagem decrescente: 1...\n",
      "Finalizando thread A.\n",
      "Thread B contagem decrescente: 1...\n",
      "Finalizando thread B.\n",
      "Fim.\n"
     ]
    }
   ],
   "source": [
    "thread1 = MyThread('A', 0.5)\n",
    "thread2 = MyThread('B', 0.5)\n",
    "\n",
    "thread1.start()\n",
    "thread2.start()\n",
    "\n",
    "thread1.join()\n",
    "thread2.join()\n",
    "\n",
    "\n",
    "print('Fim.')"
   ]
  },
  {
   "cell_type": "code",
   "execution_count": null,
   "id": "dfdd7f2d",
   "metadata": {},
   "outputs": [],
   "source": []
  }
 ],
 "metadata": {
  "kernelspec": {
   "display_name": "Python 3 (ipykernel)",
   "language": "python",
   "name": "python3"
  },
  "language_info": {
   "codemirror_mode": {
    "name": "ipython",
    "version": 3
   },
   "file_extension": ".py",
   "mimetype": "text/x-python",
   "name": "python",
   "nbconvert_exporter": "python",
   "pygments_lexer": "ipython3",
   "version": "3.9.7"
  }
 },
 "nbformat": 4,
 "nbformat_minor": 5
}
