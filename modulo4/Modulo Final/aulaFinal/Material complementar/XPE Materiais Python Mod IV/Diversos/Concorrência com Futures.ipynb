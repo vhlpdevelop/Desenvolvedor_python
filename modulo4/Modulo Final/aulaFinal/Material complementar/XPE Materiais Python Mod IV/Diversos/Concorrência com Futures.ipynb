{
 "cells": [
  {
   "cell_type": "markdown",
   "id": "6bf99534",
   "metadata": {},
   "source": [
    " ### Concorrência com futures"
   ]
  },
  {
   "cell_type": "markdown",
   "id": "b14e859e",
   "metadata": {},
   "source": [
    "# https://pypi.python.org/pypi/futures"
   ]
  },
  {
   "cell_type": "code",
   "execution_count": null,
   "id": "605d13c1",
   "metadata": {},
   "outputs": [],
   "source": []
  }
 ],
 "metadata": {
  "kernelspec": {
   "display_name": "Python 3 (ipykernel)",
   "language": "python",
   "name": "python3"
  },
  "language_info": {
   "codemirror_mode": {
    "name": "ipython",
    "version": 3
   },
   "file_extension": ".py",
   "mimetype": "text/x-python",
   "name": "python",
   "nbconvert_exporter": "python",
   "pygments_lexer": "ipython3",
   "version": "3.9.7"
  }
 },
 "nbformat": 4,
 "nbformat_minor": 5
}
