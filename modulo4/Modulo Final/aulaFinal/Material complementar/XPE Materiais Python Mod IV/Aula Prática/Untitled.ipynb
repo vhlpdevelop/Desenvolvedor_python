{
 "cells": [
  {
   "cell_type": "code",
   "execution_count": 59,
   "id": "6c162663",
   "metadata": {},
   "outputs": [],
   "source": [
    "import pandas as pd"
   ]
  },
  {
   "cell_type": "code",
   "execution_count": 60,
   "id": "5e54f6db",
   "metadata": {},
   "outputs": [],
   "source": [
    "df = pd.read_csv('credit_data.csv')"
   ]
  },
  {
   "cell_type": "code",
   "execution_count": 61,
   "id": "e53c81b2",
   "metadata": {},
   "outputs": [],
   "source": [
    "df = df.dropna()"
   ]
  },
  {
   "cell_type": "code",
   "execution_count": 63,
   "id": "6b7cecb2",
   "metadata": {},
   "outputs": [
    {
     "data": {
      "text/plain": [
       "(1997, 5)"
      ]
     },
     "execution_count": 63,
     "metadata": {},
     "output_type": "execute_result"
    }
   ],
   "source": [
    "df.shape"
   ]
  },
  {
   "cell_type": "code",
   "execution_count": 64,
   "id": "7d01b27a",
   "metadata": {},
   "outputs": [],
   "source": [
    "from sklearn.model_selection import train_test_split"
   ]
  },
  {
   "cell_type": "code",
   "execution_count": 65,
   "id": "cf5ecafe",
   "metadata": {},
   "outputs": [],
   "source": [
    "X_credit = df[['income','age','loan']]\n",
    "y_credit = df['default']"
   ]
  },
  {
   "cell_type": "code",
   "execution_count": 66,
   "id": "fff8c793",
   "metadata": {},
   "outputs": [],
   "source": [
    "from sklearn.preprocessing import StandardScaler\n",
    "standard_scaler = StandardScaler()\n",
    "X_credit = standard_scaler.fit_transform(X_credit)"
   ]
  },
  {
   "cell_type": "code",
   "execution_count": 67,
   "id": "2bf269cf",
   "metadata": {},
   "outputs": [],
   "source": [
    "from sklearn.model_selection import train_test_split\n",
    "X_credit_treinamento, X_credit_teste, y_credit_treinamento, y_credit_teste = train_test_split(X_credit, y_credit, test_size = 0.25, random_state = 0)"
   ]
  },
  {
   "cell_type": "code",
   "execution_count": 68,
   "id": "86e17190",
   "metadata": {},
   "outputs": [
    {
     "data": {
      "text/plain": [
       "(1497, 3)"
      ]
     },
     "execution_count": 68,
     "metadata": {},
     "output_type": "execute_result"
    }
   ],
   "source": [
    "X_credit_treinamento.shape"
   ]
  },
  {
   "cell_type": "code",
   "execution_count": 69,
   "id": "07518674",
   "metadata": {},
   "outputs": [
    {
     "data": {
      "text/plain": [
       "(1497,)"
      ]
     },
     "execution_count": 69,
     "metadata": {},
     "output_type": "execute_result"
    }
   ],
   "source": [
    "y_credit_treinamento.shape"
   ]
  },
  {
   "cell_type": "code",
   "execution_count": 70,
   "id": "a579b042",
   "metadata": {},
   "outputs": [
    {
     "data": {
      "text/plain": [
       "((500, 3), (500,))"
      ]
     },
     "execution_count": 70,
     "metadata": {},
     "output_type": "execute_result"
    }
   ],
   "source": [
    "X_credit_teste.shape, y_credit_teste.shape"
   ]
  },
  {
   "cell_type": "code",
   "execution_count": 71,
   "id": "7fa27592",
   "metadata": {},
   "outputs": [],
   "source": [
    "from sklearn.neural_network import MLPClassifier"
   ]
  },
  {
   "cell_type": "code",
   "execution_count": 78,
   "id": "afee278b",
   "metadata": {},
   "outputs": [
    {
     "name": "stdout",
     "output_type": "stream",
     "text": [
      "Iteration 1, loss = 0.58577630\n",
      "Iteration 2, loss = 0.53749685\n",
      "Iteration 3, loss = 0.49612844\n",
      "Iteration 4, loss = 0.46008862\n",
      "Iteration 5, loss = 0.42852747\n",
      "Iteration 6, loss = 0.40023295\n",
      "Iteration 7, loss = 0.37524902\n",
      "Iteration 8, loss = 0.35219423\n",
      "Iteration 9, loss = 0.33152048\n",
      "Iteration 10, loss = 0.31270978\n",
      "Iteration 11, loss = 0.29564882\n",
      "Iteration 12, loss = 0.28008091\n",
      "Iteration 13, loss = 0.26588627\n",
      "Iteration 14, loss = 0.25302350\n",
      "Iteration 15, loss = 0.24108547\n",
      "Iteration 16, loss = 0.23034761\n",
      "Iteration 17, loss = 0.22057296\n",
      "Iteration 18, loss = 0.21159946\n",
      "Iteration 19, loss = 0.20324210\n",
      "Iteration 20, loss = 0.19585164\n",
      "Iteration 21, loss = 0.18904129\n",
      "Iteration 22, loss = 0.18291892\n",
      "Iteration 23, loss = 0.17697684\n",
      "Iteration 24, loss = 0.17170843\n",
      "Iteration 25, loss = 0.16659714\n",
      "Iteration 26, loss = 0.16192166\n",
      "Iteration 27, loss = 0.15762377\n",
      "Iteration 28, loss = 0.15356461\n",
      "Iteration 29, loss = 0.14969662\n",
      "Iteration 30, loss = 0.14619352\n",
      "Iteration 31, loss = 0.14270504\n",
      "Iteration 32, loss = 0.13965702\n",
      "Iteration 33, loss = 0.13650101\n",
      "Iteration 34, loss = 0.13365172\n",
      "Iteration 35, loss = 0.13079390\n",
      "Iteration 36, loss = 0.12817819\n",
      "Iteration 37, loss = 0.12567819\n",
      "Iteration 38, loss = 0.12336682\n",
      "Iteration 39, loss = 0.12102149\n",
      "Iteration 40, loss = 0.11878705\n",
      "Iteration 41, loss = 0.11682083\n",
      "Iteration 42, loss = 0.11479053\n",
      "Iteration 43, loss = 0.11295574\n",
      "Iteration 44, loss = 0.11112426\n",
      "Iteration 45, loss = 0.10936390\n",
      "Iteration 46, loss = 0.10763053\n",
      "Iteration 47, loss = 0.10596140\n",
      "Iteration 48, loss = 0.10435245\n",
      "Iteration 49, loss = 0.10274312\n",
      "Iteration 50, loss = 0.10142817\n",
      "Iteration 51, loss = 0.09987932\n",
      "Iteration 52, loss = 0.09860830\n",
      "Iteration 53, loss = 0.09711043\n",
      "Iteration 54, loss = 0.09569601\n",
      "Iteration 55, loss = 0.09440744\n",
      "Iteration 56, loss = 0.09319403\n",
      "Iteration 57, loss = 0.09190738\n",
      "Iteration 58, loss = 0.09074178\n",
      "Iteration 59, loss = 0.08962483\n",
      "Iteration 60, loss = 0.08837877\n",
      "Iteration 61, loss = 0.08741201\n",
      "Iteration 62, loss = 0.08615619\n",
      "Iteration 63, loss = 0.08517900\n",
      "Iteration 64, loss = 0.08401798\n",
      "Iteration 65, loss = 0.08290930\n",
      "Iteration 66, loss = 0.08194397\n",
      "Iteration 67, loss = 0.08094201\n",
      "Iteration 68, loss = 0.07992260\n",
      "Iteration 69, loss = 0.07911123\n",
      "Iteration 70, loss = 0.07809303\n",
      "Iteration 71, loss = 0.07731479\n",
      "Iteration 72, loss = 0.07645430\n",
      "Iteration 73, loss = 0.07539595\n",
      "Iteration 74, loss = 0.07454986\n",
      "Iteration 75, loss = 0.07371646\n",
      "Iteration 76, loss = 0.07290872\n",
      "Iteration 77, loss = 0.07211059\n",
      "Iteration 78, loss = 0.07135440\n",
      "Iteration 79, loss = 0.07058152\n",
      "Iteration 80, loss = 0.06982445\n",
      "Iteration 81, loss = 0.06903600\n",
      "Iteration 82, loss = 0.06831454\n",
      "Iteration 83, loss = 0.06756107\n",
      "Iteration 84, loss = 0.06688341\n",
      "Iteration 85, loss = 0.06616083\n",
      "Iteration 86, loss = 0.06550714\n",
      "Iteration 87, loss = 0.06476006\n",
      "Iteration 88, loss = 0.06411961\n",
      "Iteration 89, loss = 0.06349908\n",
      "Iteration 90, loss = 0.06294697\n",
      "Iteration 91, loss = 0.06233563\n",
      "Iteration 92, loss = 0.06164704\n",
      "Iteration 93, loss = 0.06117009\n",
      "Iteration 94, loss = 0.06049693\n",
      "Iteration 95, loss = 0.05993643\n",
      "Iteration 96, loss = 0.05934547\n",
      "Iteration 97, loss = 0.05878717\n",
      "Iteration 98, loss = 0.05827966\n",
      "Iteration 99, loss = 0.05776344\n",
      "Iteration 100, loss = 0.05716077\n",
      "Iteration 101, loss = 0.05680974\n",
      "Iteration 102, loss = 0.05624936\n",
      "Iteration 103, loss = 0.05592819\n",
      "Iteration 104, loss = 0.05536109\n",
      "Iteration 105, loss = 0.05482256\n",
      "Iteration 106, loss = 0.05443749\n",
      "Iteration 107, loss = 0.05396579\n",
      "Iteration 108, loss = 0.05350115\n",
      "Iteration 109, loss = 0.05309280\n",
      "Iteration 110, loss = 0.05268060\n",
      "Iteration 111, loss = 0.05229332\n",
      "Iteration 112, loss = 0.05183877\n",
      "Iteration 113, loss = 0.05143676\n",
      "Iteration 114, loss = 0.05112799\n",
      "Iteration 115, loss = 0.05072829\n",
      "Iteration 116, loss = 0.05030510\n",
      "Iteration 117, loss = 0.04995520\n",
      "Iteration 118, loss = 0.04954953\n",
      "Iteration 119, loss = 0.04922654\n",
      "Iteration 120, loss = 0.04886065\n",
      "Iteration 121, loss = 0.04851811\n",
      "Iteration 122, loss = 0.04820448\n",
      "Iteration 123, loss = 0.04784778\n",
      "Iteration 124, loss = 0.04748921\n",
      "Iteration 125, loss = 0.04711795\n",
      "Iteration 126, loss = 0.04679079\n",
      "Iteration 127, loss = 0.04645778\n",
      "Iteration 128, loss = 0.04620102\n",
      "Iteration 129, loss = 0.04585128\n",
      "Iteration 130, loss = 0.04559056\n",
      "Iteration 131, loss = 0.04520890\n",
      "Iteration 132, loss = 0.04496664\n",
      "Iteration 133, loss = 0.04465067\n",
      "Iteration 134, loss = 0.04434752\n",
      "Iteration 135, loss = 0.04403486\n",
      "Iteration 136, loss = 0.04375292\n",
      "Iteration 137, loss = 0.04346472\n",
      "Iteration 138, loss = 0.04324212\n",
      "Iteration 139, loss = 0.04295640\n",
      "Iteration 140, loss = 0.04269723\n",
      "Iteration 141, loss = 0.04237674\n",
      "Iteration 142, loss = 0.04215713\n",
      "Iteration 143, loss = 0.04187856\n",
      "Iteration 144, loss = 0.04160395\n",
      "Iteration 145, loss = 0.04138560\n",
      "Iteration 146, loss = 0.04108815\n",
      "Iteration 147, loss = 0.04090055\n",
      "Iteration 148, loss = 0.04080133\n",
      "Iteration 149, loss = 0.04035942\n",
      "Iteration 150, loss = 0.04015160\n",
      "Iteration 151, loss = 0.03991162\n",
      "Iteration 152, loss = 0.03970155\n",
      "Iteration 153, loss = 0.03955921\n",
      "Iteration 154, loss = 0.03921857\n",
      "Iteration 155, loss = 0.03909409\n",
      "Iteration 156, loss = 0.03882193\n",
      "Iteration 157, loss = 0.03862142\n",
      "Iteration 158, loss = 0.03847309\n",
      "Iteration 159, loss = 0.03828454\n",
      "Iteration 160, loss = 0.03800314\n",
      "Iteration 161, loss = 0.03781478\n",
      "Iteration 162, loss = 0.03760531\n",
      "Iteration 163, loss = 0.03740417\n",
      "Iteration 164, loss = 0.03719957\n",
      "Iteration 165, loss = 0.03703219\n",
      "Iteration 166, loss = 0.03680716\n",
      "Iteration 167, loss = 0.03659928\n",
      "Iteration 168, loss = 0.03637095\n",
      "Iteration 169, loss = 0.03627839\n",
      "Iteration 170, loss = 0.03604719\n",
      "Iteration 171, loss = 0.03583392\n",
      "Iteration 172, loss = 0.03575106\n",
      "Iteration 173, loss = 0.03552015\n",
      "Iteration 174, loss = 0.03543213\n",
      "Iteration 175, loss = 0.03514016\n",
      "Iteration 176, loss = 0.03497462\n",
      "Iteration 177, loss = 0.03477411\n",
      "Iteration 178, loss = 0.03462142\n",
      "Iteration 179, loss = 0.03443228\n",
      "Iteration 180, loss = 0.03425850\n",
      "Iteration 181, loss = 0.03412611\n",
      "Iteration 182, loss = 0.03398858\n",
      "Iteration 183, loss = 0.03376526\n",
      "Iteration 184, loss = 0.03361372\n",
      "Iteration 185, loss = 0.03346118\n",
      "Iteration 186, loss = 0.03327806\n",
      "Iteration 187, loss = 0.03310733\n",
      "Iteration 188, loss = 0.03297130\n",
      "Iteration 189, loss = 0.03281749\n",
      "Iteration 190, loss = 0.03262894\n",
      "Iteration 191, loss = 0.03244921\n",
      "Iteration 192, loss = 0.03236737\n",
      "Iteration 193, loss = 0.03220879\n",
      "Iteration 194, loss = 0.03204464\n",
      "Iteration 195, loss = 0.03188678\n",
      "Iteration 196, loss = 0.03175881\n",
      "Iteration 197, loss = 0.03163105\n",
      "Iteration 198, loss = 0.03146345\n",
      "Iteration 199, loss = 0.03133550\n",
      "Iteration 200, loss = 0.03126847\n"
     ]
    },
    {
     "name": "stderr",
     "output_type": "stream",
     "text": [
      "C:\\ProgramData\\Anaconda3\\lib\\site-packages\\sklearn\\neural_network\\_multilayer_perceptron.py:614: ConvergenceWarning: Stochastic Optimizer: Maximum iterations (200) reached and the optimization hasn't converged yet.\n",
      "  warnings.warn(\n"
     ]
    },
    {
     "data": {
      "text/plain": [
       "MLPClassifier(verbose=True)"
      ]
     },
     "execution_count": 78,
     "metadata": {},
     "output_type": "execute_result"
    }
   ],
   "source": [
    "rede_neural_credit = MLPClassifier(verbose=True)\n",
    "rede_neural_credit.fit(X_credit_treinamento, y_credit_treinamento)"
   ]
  },
  {
   "cell_type": "code",
   "execution_count": 74,
   "id": "4a048078",
   "metadata": {},
   "outputs": [
    {
     "data": {
      "text/plain": [
       "array([0, 0, 0, 1, 0, 0, 0, 0, 0, 0, 0, 0, 0, 0, 0, 0, 0, 0, 1, 0, 0, 0,\n",
       "       1, 1, 0, 1, 1, 0, 0, 0, 0, 0, 0, 0, 0, 0, 0, 0, 0, 1, 0, 0, 0, 0,\n",
       "       0, 0, 0, 0, 0, 0, 0, 0, 0, 1, 0, 0, 0, 0, 0, 0, 0, 0, 0, 0, 0, 0,\n",
       "       0, 0, 0, 0, 0, 0, 1, 0, 0, 0, 0, 1, 1, 0, 0, 0, 0, 0, 1, 0, 0, 0,\n",
       "       0, 1, 1, 0, 0, 0, 0, 0, 0, 0, 0, 0, 0, 1, 0, 0, 0, 1, 0, 0, 0, 0,\n",
       "       0, 0, 0, 0, 0, 0, 0, 0, 0, 0, 0, 0, 0, 1, 0, 1, 0, 0, 1, 0, 0, 0,\n",
       "       0, 0, 0, 0, 0, 0, 0, 0, 0, 0, 0, 0, 0, 0, 0, 1, 0, 0, 0, 0, 1, 0,\n",
       "       0, 0, 0, 0, 0, 0, 0, 0, 0, 0, 0, 0, 0, 0, 0, 0, 0, 0, 0, 1, 0, 0,\n",
       "       0, 1, 0, 0, 0, 0, 0, 0, 0, 0, 0, 0, 0, 0, 1, 0, 0, 0, 1, 0, 0, 0,\n",
       "       0, 0, 0, 0, 0, 0, 0, 1, 0, 0, 0, 0, 0, 0, 0, 0, 0, 0, 0, 0, 0, 0,\n",
       "       1, 1, 0, 0, 0, 0, 0, 0, 0, 1, 0, 0, 0, 0, 1, 1, 1, 0, 0, 0, 0, 0,\n",
       "       0, 0, 0, 0, 0, 0, 1, 0, 0, 0, 0, 0, 0, 0, 0, 0, 0, 0, 1, 0, 0, 0,\n",
       "       0, 0, 0, 0, 0, 0, 0, 0, 0, 0, 1, 0, 0, 0, 0, 0, 0, 0, 0, 0, 0, 0,\n",
       "       0, 1, 0, 0, 0, 0, 0, 0, 0, 0, 1, 0, 0, 0, 0, 0, 0, 0, 0, 0, 1, 0,\n",
       "       1, 0, 0, 0, 0, 0, 0, 1, 0, 1, 0, 1, 0, 0, 0, 0, 0, 0, 0, 0, 0, 0,\n",
       "       1, 0, 0, 0, 0, 0, 0, 0, 0, 0, 0, 1, 0, 0, 0, 0, 0, 0, 0, 0, 0, 0,\n",
       "       0, 0, 0, 0, 0, 0, 0, 0, 1, 0, 0, 0, 0, 0, 1, 0, 0, 0, 0, 0, 1, 0,\n",
       "       0, 0, 1, 0, 1, 0, 0, 0, 0, 0, 0, 0, 0, 0, 0, 1, 1, 0, 0, 0, 0, 0,\n",
       "       0, 0, 0, 0, 0, 0, 0, 0, 0, 1, 1, 0, 1, 0, 0, 0, 0, 0, 0, 0, 0, 1,\n",
       "       0, 0, 0, 0, 0, 0, 0, 0, 1, 0, 0, 0, 0, 0, 0, 0, 0, 0, 0, 0, 0, 0,\n",
       "       0, 1, 1, 0, 1, 0, 0, 0, 0, 0, 0, 0, 0, 0, 0, 0, 0, 0, 0, 0, 0, 1,\n",
       "       0, 1, 1, 0, 0, 0, 0, 0, 0, 0, 0, 1, 1, 0, 0, 1, 0, 1, 0, 0, 0, 0,\n",
       "       1, 0, 0, 0, 0, 0, 1, 0, 0, 0, 0, 0, 0, 0, 0, 0], dtype=int64)"
      ]
     },
     "execution_count": 74,
     "metadata": {},
     "output_type": "execute_result"
    }
   ],
   "source": [
    "previsoes = rede_neural_credit.predict(X_credit_teste)\n",
    "previsoes"
   ]
  },
  {
   "cell_type": "code",
   "execution_count": 75,
   "id": "4216d0db",
   "metadata": {},
   "outputs": [
    {
     "data": {
      "text/plain": [
       "408     0\n",
       "1191    0\n",
       "677     0\n",
       "1360    1\n",
       "813     0\n",
       "       ..\n",
       "1900    0\n",
       "1524    0\n",
       "1415    0\n",
       "1306    0\n",
       "1767    0\n",
       "Name: default, Length: 500, dtype: int64"
      ]
     },
     "execution_count": 75,
     "metadata": {},
     "output_type": "execute_result"
    }
   ],
   "source": [
    "y_credit_teste"
   ]
  },
  {
   "cell_type": "code",
   "execution_count": 76,
   "id": "ba5c6616",
   "metadata": {},
   "outputs": [
    {
     "data": {
      "text/plain": [
       "0.996"
      ]
     },
     "execution_count": 76,
     "metadata": {},
     "output_type": "execute_result"
    }
   ],
   "source": [
    "from sklearn.metrics import accuracy_score, classification_report\n",
    "accuracy_score(y_credit_teste, previsoes)"
   ]
  },
  {
   "cell_type": "code",
   "execution_count": 77,
   "id": "85309b01",
   "metadata": {},
   "outputs": [
    {
     "name": "stdout",
     "output_type": "stream",
     "text": [
      "              precision    recall  f1-score   support\n",
      "\n",
      "           0       1.00      1.00      1.00       432\n",
      "           1       0.99      0.99      0.99        68\n",
      "\n",
      "    accuracy                           1.00       500\n",
      "   macro avg       0.99      0.99      0.99       500\n",
      "weighted avg       1.00      1.00      1.00       500\n",
      "\n"
     ]
    }
   ],
   "source": [
    "print(classification_report(y_credit_teste, previsoes))"
   ]
  },
  {
   "cell_type": "code",
   "execution_count": null,
   "id": "c963bcde",
   "metadata": {},
   "outputs": [],
   "source": []
  }
 ],
 "metadata": {
  "kernelspec": {
   "display_name": "Python 3 (ipykernel)",
   "language": "python",
   "name": "python3"
  },
  "language_info": {
   "codemirror_mode": {
    "name": "ipython",
    "version": 3
   },
   "file_extension": ".py",
   "mimetype": "text/x-python",
   "name": "python",
   "nbconvert_exporter": "python",
   "pygments_lexer": "ipython3",
   "version": "3.9.7"
  }
 },
 "nbformat": 4,
 "nbformat_minor": 5
}
