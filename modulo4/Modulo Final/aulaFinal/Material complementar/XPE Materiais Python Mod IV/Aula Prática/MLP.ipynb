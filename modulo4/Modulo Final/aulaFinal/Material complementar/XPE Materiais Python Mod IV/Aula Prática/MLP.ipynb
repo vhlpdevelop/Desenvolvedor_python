{
 "cells": [
  {
   "cell_type": "code",
   "execution_count": 25,
   "id": "6df12b79",
   "metadata": {},
   "outputs": [],
   "source": [
    "import pandas as pd\n",
    "df = pd.read_csv('credit_data.csv')"
   ]
  },
  {
   "cell_type": "code",
   "execution_count": 26,
   "id": "0b8b0ef9",
   "metadata": {},
   "outputs": [
    {
     "data": {
      "text/plain": [
       "Index(['clientid', 'income', 'age', 'loan', 'default'], dtype='object')"
      ]
     },
     "execution_count": 26,
     "metadata": {},
     "output_type": "execute_result"
    }
   ],
   "source": [
    "df.columns"
   ]
  },
  {
   "cell_type": "code",
   "execution_count": 27,
   "id": "f8d94923",
   "metadata": {},
   "outputs": [
    {
     "data": {
      "text/html": [
       "<div>\n",
       "<style scoped>\n",
       "    .dataframe tbody tr th:only-of-type {\n",
       "        vertical-align: middle;\n",
       "    }\n",
       "\n",
       "    .dataframe tbody tr th {\n",
       "        vertical-align: top;\n",
       "    }\n",
       "\n",
       "    .dataframe thead th {\n",
       "        text-align: right;\n",
       "    }\n",
       "</style>\n",
       "<table border=\"1\" class=\"dataframe\">\n",
       "  <thead>\n",
       "    <tr style=\"text-align: right;\">\n",
       "      <th></th>\n",
       "      <th>income</th>\n",
       "      <th>age</th>\n",
       "    </tr>\n",
       "  </thead>\n",
       "  <tbody>\n",
       "    <tr>\n",
       "      <th>0</th>\n",
       "      <td>66155.925095</td>\n",
       "      <td>59.017015</td>\n",
       "    </tr>\n",
       "    <tr>\n",
       "      <th>1</th>\n",
       "      <td>34415.153966</td>\n",
       "      <td>48.117153</td>\n",
       "    </tr>\n",
       "    <tr>\n",
       "      <th>2</th>\n",
       "      <td>57317.170063</td>\n",
       "      <td>63.108049</td>\n",
       "    </tr>\n",
       "    <tr>\n",
       "      <th>3</th>\n",
       "      <td>42709.534201</td>\n",
       "      <td>45.751972</td>\n",
       "    </tr>\n",
       "    <tr>\n",
       "      <th>4</th>\n",
       "      <td>66952.688845</td>\n",
       "      <td>18.584336</td>\n",
       "    </tr>\n",
       "  </tbody>\n",
       "</table>\n",
       "</div>"
      ],
      "text/plain": [
       "         income        age\n",
       "0  66155.925095  59.017015\n",
       "1  34415.153966  48.117153\n",
       "2  57317.170063  63.108049\n",
       "3  42709.534201  45.751972\n",
       "4  66952.688845  18.584336"
      ]
     },
     "execution_count": 27,
     "metadata": {},
     "output_type": "execute_result"
    }
   ],
   "source": [
    "df2 = df[['income','age']]\n",
    "df2.head()"
   ]
  },
  {
   "cell_type": "code",
   "execution_count": 21,
   "id": "eb8b46a1",
   "metadata": {},
   "outputs": [
    {
     "data": {
      "text/html": [
       "<div>\n",
       "<style scoped>\n",
       "    .dataframe tbody tr th:only-of-type {\n",
       "        vertical-align: middle;\n",
       "    }\n",
       "\n",
       "    .dataframe tbody tr th {\n",
       "        vertical-align: top;\n",
       "    }\n",
       "\n",
       "    .dataframe thead th {\n",
       "        text-align: right;\n",
       "    }\n",
       "</style>\n",
       "<table border=\"1\" class=\"dataframe\">\n",
       "  <thead>\n",
       "    <tr style=\"text-align: right;\">\n",
       "      <th></th>\n",
       "      <th>clientid</th>\n",
       "      <th>income</th>\n",
       "      <th>age</th>\n",
       "      <th>loan</th>\n",
       "      <th>default</th>\n",
       "    </tr>\n",
       "  </thead>\n",
       "  <tbody>\n",
       "    <tr>\n",
       "      <th>0</th>\n",
       "      <td>1</td>\n",
       "      <td>66155.925095</td>\n",
       "      <td>59.017015</td>\n",
       "      <td>8106.532131</td>\n",
       "      <td>0</td>\n",
       "    </tr>\n",
       "    <tr>\n",
       "      <th>1</th>\n",
       "      <td>2</td>\n",
       "      <td>34415.153966</td>\n",
       "      <td>48.117153</td>\n",
       "      <td>6564.745018</td>\n",
       "      <td>0</td>\n",
       "    </tr>\n",
       "    <tr>\n",
       "      <th>2</th>\n",
       "      <td>3</td>\n",
       "      <td>57317.170063</td>\n",
       "      <td>63.108049</td>\n",
       "      <td>8020.953296</td>\n",
       "      <td>0</td>\n",
       "    </tr>\n",
       "    <tr>\n",
       "      <th>3</th>\n",
       "      <td>4</td>\n",
       "      <td>42709.534201</td>\n",
       "      <td>45.751972</td>\n",
       "      <td>6103.642260</td>\n",
       "      <td>0</td>\n",
       "    </tr>\n",
       "    <tr>\n",
       "      <th>4</th>\n",
       "      <td>5</td>\n",
       "      <td>66952.688845</td>\n",
       "      <td>18.584336</td>\n",
       "      <td>8770.099235</td>\n",
       "      <td>1</td>\n",
       "    </tr>\n",
       "  </tbody>\n",
       "</table>\n",
       "</div>"
      ],
      "text/plain": [
       "   clientid        income        age         loan  default\n",
       "0         1  66155.925095  59.017015  8106.532131        0\n",
       "1         2  34415.153966  48.117153  6564.745018        0\n",
       "2         3  57317.170063  63.108049  8020.953296        0\n",
       "3         4  42709.534201  45.751972  6103.642260        0\n",
       "4         5  66952.688845  18.584336  8770.099235        1"
      ]
     },
     "execution_count": 21,
     "metadata": {},
     "output_type": "execute_result"
    }
   ],
   "source": [
    "df.head()"
   ]
  },
  {
   "cell_type": "code",
   "execution_count": 22,
   "id": "90907768",
   "metadata": {},
   "outputs": [
    {
     "data": {
      "text/plain": [
       "(2000, 5)"
      ]
     },
     "execution_count": 22,
     "metadata": {},
     "output_type": "execute_result"
    }
   ],
   "source": [
    "df.shape"
   ]
  },
  {
   "cell_type": "code",
   "execution_count": 23,
   "id": "f7f62ccd",
   "metadata": {},
   "outputs": [],
   "source": [
    "df = df.dropna()"
   ]
  },
  {
   "cell_type": "code",
   "execution_count": 24,
   "id": "6e9ffd2d",
   "metadata": {},
   "outputs": [
    {
     "data": {
      "text/plain": [
       "(1997, 5)"
      ]
     },
     "execution_count": 24,
     "metadata": {},
     "output_type": "execute_result"
    }
   ],
   "source": [
    "df.shape"
   ]
  },
  {
   "cell_type": "code",
   "execution_count": 5,
   "id": "28e368d5",
   "metadata": {},
   "outputs": [],
   "source": [
    "X_credit = df[['income','age','loan']]\n",
    "y_credit = df['default']"
   ]
  },
  {
   "cell_type": "code",
   "execution_count": 6,
   "id": "3300aa9f",
   "metadata": {},
   "outputs": [],
   "source": [
    "from sklearn.preprocessing import StandardScaler\n",
    "standar_scaler =  StandardScaler()\n",
    "X_credit = standar_scaler.fit_transform(X_credit)"
   ]
  },
  {
   "cell_type": "code",
   "execution_count": 7,
   "id": "b492689e",
   "metadata": {},
   "outputs": [],
   "source": [
    "from sklearn.preprocessing import StandardScaler\n",
    "standar_scaler =  StandardScaler()"
   ]
  },
  {
   "cell_type": "code",
   "execution_count": 8,
   "id": "da0b55ec",
   "metadata": {},
   "outputs": [
    {
     "data": {
      "text/plain": [
       "array([[ 1.45389775,  1.33686061,  1.20190707],\n",
       "       [-0.76239757,  0.53663921,  0.69574418],\n",
       "       [ 0.8367328 ,  1.63720692,  1.17381186],\n",
       "       ...,\n",
       "       [-0.07139   , -0.93901609,  0.35367319],\n",
       "       [-0.11017022,  1.7006195 , -0.92670314],\n",
       "       [ 1.68296904,  1.12656872,  0.96300639]])"
      ]
     },
     "execution_count": 8,
     "metadata": {},
     "output_type": "execute_result"
    }
   ],
   "source": [
    "X_credit"
   ]
  },
  {
   "cell_type": "code",
   "execution_count": 9,
   "id": "1a4dedb5",
   "metadata": {},
   "outputs": [],
   "source": [
    "from sklearn.model_selection import train_test_split\n",
    "X_credit_treinamento, X_credit_teste, y_credit_treinamento, y_credit_teste = train_test_split(X_credit, y_credit, test_size = 0.25, random_state = 0)"
   ]
  },
  {
   "cell_type": "code",
   "execution_count": 10,
   "id": "1ebf8afa",
   "metadata": {},
   "outputs": [
    {
     "data": {
      "text/plain": [
       "(1497, 3)"
      ]
     },
     "execution_count": 10,
     "metadata": {},
     "output_type": "execute_result"
    }
   ],
   "source": [
    "X_credit_treinamento.shape"
   ]
  },
  {
   "cell_type": "code",
   "execution_count": 11,
   "id": "89489230",
   "metadata": {},
   "outputs": [
    {
     "data": {
      "text/plain": [
       "(1497,)"
      ]
     },
     "execution_count": 11,
     "metadata": {},
     "output_type": "execute_result"
    }
   ],
   "source": [
    "y_credit_treinamento.shape"
   ]
  },
  {
   "cell_type": "code",
   "execution_count": 12,
   "id": "159b17f9",
   "metadata": {},
   "outputs": [
    {
     "data": {
      "text/plain": [
       "((500, 3), (500,))"
      ]
     },
     "execution_count": 12,
     "metadata": {},
     "output_type": "execute_result"
    }
   ],
   "source": [
    "X_credit_teste.shape, y_credit_teste.shape"
   ]
  },
  {
   "cell_type": "code",
   "execution_count": 14,
   "id": "86935802",
   "metadata": {},
   "outputs": [
    {
     "name": "stdout",
     "output_type": "stream",
     "text": [
      "Iteration 1, loss = 0.55270729\n",
      "Iteration 2, loss = 0.47466489\n",
      "Iteration 3, loss = 0.41371164\n",
      "Iteration 4, loss = 0.36553816\n",
      "Iteration 5, loss = 0.32729110\n",
      "Iteration 6, loss = 0.29535776\n",
      "Iteration 7, loss = 0.26684624\n",
      "Iteration 8, loss = 0.24296180\n",
      "Iteration 9, loss = 0.22162598\n",
      "Iteration 10, loss = 0.20238056\n",
      "Iteration 11, loss = 0.18561285\n",
      "Iteration 12, loss = 0.17044333\n",
      "Iteration 13, loss = 0.15684146\n",
      "Iteration 14, loss = 0.14508177\n",
      "Iteration 15, loss = 0.13515515\n",
      "Iteration 16, loss = 0.12565995\n",
      "Iteration 17, loss = 0.11752759\n",
      "Iteration 18, loss = 0.10987962\n",
      "Iteration 19, loss = 0.10320988\n",
      "Iteration 20, loss = 0.09701497\n",
      "Iteration 21, loss = 0.09165546\n",
      "Iteration 22, loss = 0.08692448\n",
      "Iteration 23, loss = 0.08288926\n",
      "Iteration 24, loss = 0.07900812\n",
      "Iteration 25, loss = 0.07545339\n",
      "Iteration 26, loss = 0.07200653\n",
      "Iteration 27, loss = 0.06954751\n",
      "Iteration 28, loss = 0.06662645\n",
      "Iteration 29, loss = 0.06402322\n",
      "Iteration 30, loss = 0.06171902\n",
      "Iteration 31, loss = 0.05949246\n",
      "Iteration 32, loss = 0.05741328\n",
      "Iteration 33, loss = 0.05536588\n",
      "Iteration 34, loss = 0.05376410\n",
      "Iteration 35, loss = 0.05200888\n",
      "Iteration 36, loss = 0.05052033\n",
      "Iteration 37, loss = 0.04902085\n",
      "Iteration 38, loss = 0.04770340\n",
      "Iteration 39, loss = 0.04618619\n",
      "Iteration 40, loss = 0.04490630\n",
      "Iteration 41, loss = 0.04372842\n",
      "Iteration 42, loss = 0.04279592\n",
      "Iteration 43, loss = 0.04193819\n",
      "Iteration 44, loss = 0.04050842\n",
      "Iteration 45, loss = 0.03959300\n",
      "Iteration 46, loss = 0.03891380\n",
      "Iteration 47, loss = 0.03816320\n",
      "Iteration 48, loss = 0.03693691\n",
      "Iteration 49, loss = 0.03630765\n",
      "Iteration 50, loss = 0.03579467\n",
      "Iteration 51, loss = 0.03478837\n",
      "Iteration 52, loss = 0.03421129\n",
      "Iteration 53, loss = 0.03352023\n",
      "Iteration 54, loss = 0.03295505\n",
      "Iteration 55, loss = 0.03212298\n",
      "Iteration 56, loss = 0.03170772\n",
      "Iteration 57, loss = 0.03114593\n",
      "Iteration 58, loss = 0.03078963\n",
      "Iteration 59, loss = 0.03012671\n",
      "Iteration 60, loss = 0.02950774\n",
      "Iteration 61, loss = 0.02951264\n",
      "Iteration 62, loss = 0.02854666\n",
      "Iteration 63, loss = 0.02811781\n",
      "Iteration 64, loss = 0.02785079\n",
      "Iteration 65, loss = 0.02747532\n",
      "Iteration 66, loss = 0.02694606\n",
      "Iteration 67, loss = 0.02651799\n",
      "Iteration 68, loss = 0.02643022\n",
      "Iteration 69, loss = 0.02579568\n",
      "Iteration 70, loss = 0.02557389\n",
      "Iteration 71, loss = 0.02544133\n",
      "Iteration 72, loss = 0.02465224\n",
      "Iteration 73, loss = 0.02447154\n",
      "Iteration 74, loss = 0.02404504\n",
      "Iteration 75, loss = 0.02384021\n",
      "Iteration 76, loss = 0.02339745\n",
      "Iteration 77, loss = 0.02321696\n",
      "Iteration 78, loss = 0.02279456\n",
      "Iteration 79, loss = 0.02285036\n",
      "Iteration 80, loss = 0.02220767\n",
      "Iteration 81, loss = 0.02219924\n",
      "Iteration 82, loss = 0.02164586\n",
      "Iteration 83, loss = 0.02152092\n",
      "Iteration 84, loss = 0.02127621\n",
      "Iteration 85, loss = 0.02098745\n",
      "Iteration 86, loss = 0.02058721\n",
      "Iteration 87, loss = 0.02069616\n",
      "Iteration 88, loss = 0.02034744\n",
      "Iteration 89, loss = 0.02016721\n",
      "Iteration 90, loss = 0.01992212\n",
      "Iteration 91, loss = 0.01945725\n",
      "Iteration 92, loss = 0.01921972\n",
      "Iteration 93, loss = 0.01957963\n",
      "Iteration 94, loss = 0.01897645\n",
      "Iteration 95, loss = 0.01888627\n",
      "Iteration 96, loss = 0.01855364\n",
      "Iteration 97, loss = 0.01843419\n",
      "Iteration 98, loss = 0.01807741\n",
      "Iteration 99, loss = 0.01786571\n",
      "Iteration 100, loss = 0.01778732\n",
      "Iteration 101, loss = 0.01758330\n",
      "Iteration 102, loss = 0.01735200\n",
      "Iteration 103, loss = 0.01723818\n",
      "Iteration 104, loss = 0.01691163\n",
      "Iteration 105, loss = 0.01700753\n",
      "Iteration 106, loss = 0.01688017\n",
      "Iteration 107, loss = 0.01647137\n",
      "Iteration 108, loss = 0.01650075\n",
      "Iteration 109, loss = 0.01628172\n",
      "Iteration 110, loss = 0.01602712\n",
      "Iteration 111, loss = 0.01583833\n",
      "Iteration 112, loss = 0.01588522\n",
      "Iteration 113, loss = 0.01598144\n",
      "Iteration 114, loss = 0.01537419\n",
      "Iteration 115, loss = 0.01535974\n",
      "Iteration 116, loss = 0.01517927\n",
      "Iteration 117, loss = 0.01506904\n",
      "Iteration 118, loss = 0.01510099\n",
      "Iteration 119, loss = 0.01511674\n",
      "Iteration 120, loss = 0.01477878\n",
      "Iteration 121, loss = 0.01453762\n",
      "Iteration 122, loss = 0.01436220\n",
      "Iteration 123, loss = 0.01446858\n",
      "Iteration 124, loss = 0.01446459\n",
      "Iteration 125, loss = 0.01422780\n",
      "Iteration 126, loss = 0.01413908\n",
      "Iteration 127, loss = 0.01381234\n",
      "Iteration 128, loss = 0.01356731\n",
      "Iteration 129, loss = 0.01355185\n",
      "Iteration 130, loss = 0.01353093\n",
      "Iteration 131, loss = 0.01327284\n",
      "Iteration 132, loss = 0.01326787\n",
      "Iteration 133, loss = 0.01307743\n",
      "Iteration 134, loss = 0.01306291\n",
      "Iteration 135, loss = 0.01277745\n",
      "Iteration 136, loss = 0.01271845\n",
      "Iteration 137, loss = 0.01262258\n",
      "Iteration 138, loss = 0.01250548\n",
      "Iteration 139, loss = 0.01271818\n",
      "Iteration 140, loss = 0.01257822\n",
      "Iteration 141, loss = 0.01223067\n",
      "Iteration 142, loss = 0.01217771\n",
      "Iteration 143, loss = 0.01205089\n",
      "Iteration 144, loss = 0.01199326\n",
      "Iteration 145, loss = 0.01200700\n",
      "Iteration 146, loss = 0.01171953\n",
      "Iteration 147, loss = 0.01176284\n",
      "Iteration 148, loss = 0.01149794\n",
      "Iteration 149, loss = 0.01136074\n",
      "Iteration 150, loss = 0.01145502\n",
      "Iteration 151, loss = 0.01155901\n",
      "Iteration 152, loss = 0.01134058\n",
      "Iteration 153, loss = 0.01107789\n",
      "Iteration 154, loss = 0.01116159\n",
      "Iteration 155, loss = 0.01082023\n",
      "Iteration 156, loss = 0.01174524\n",
      "Iteration 157, loss = 0.01097797\n",
      "Iteration 158, loss = 0.01092762\n",
      "Iteration 159, loss = 0.01057317\n",
      "Iteration 160, loss = 0.01080372\n",
      "Iteration 161, loss = 0.01043160\n",
      "Iteration 162, loss = 0.01032048\n",
      "Iteration 163, loss = 0.01038192\n",
      "Iteration 164, loss = 0.01032274\n",
      "Iteration 165, loss = 0.01030359\n",
      "Iteration 166, loss = 0.01003645\n",
      "Iteration 167, loss = 0.01023373\n",
      "Iteration 168, loss = 0.01001480\n",
      "Iteration 169, loss = 0.00984769\n",
      "Iteration 170, loss = 0.00984709\n",
      "Iteration 171, loss = 0.00956100\n",
      "Iteration 172, loss = 0.01010223\n",
      "Iteration 173, loss = 0.00934872\n",
      "Iteration 174, loss = 0.00978491\n",
      "Iteration 175, loss = 0.00956385\n",
      "Iteration 176, loss = 0.00931669\n",
      "Iteration 177, loss = 0.00934821\n",
      "Iteration 178, loss = 0.00924728\n",
      "Iteration 179, loss = 0.00919176\n",
      "Iteration 180, loss = 0.00919233\n",
      "Iteration 181, loss = 0.00909914\n",
      "Iteration 182, loss = 0.00912788\n",
      "Iteration 183, loss = 0.00912952\n",
      "Iteration 184, loss = 0.00880723\n",
      "Iteration 185, loss = 0.00882875\n",
      "Iteration 186, loss = 0.00874541\n",
      "Iteration 187, loss = 0.00870484\n",
      "Iteration 188, loss = 0.00876340\n",
      "Iteration 189, loss = 0.00868886\n",
      "Iteration 190, loss = 0.00857599\n",
      "Iteration 191, loss = 0.00841531\n",
      "Iteration 192, loss = 0.00862368\n",
      "Iteration 193, loss = 0.00837549\n",
      "Iteration 194, loss = 0.00853006\n",
      "Iteration 195, loss = 0.00829016\n",
      "Iteration 196, loss = 0.00838918\n",
      "Iteration 197, loss = 0.00813470\n",
      "Iteration 198, loss = 0.00794781\n",
      "Iteration 199, loss = 0.00794184\n",
      "Iteration 200, loss = 0.00792559\n",
      "Iteration 201, loss = 0.00839477\n",
      "Iteration 202, loss = 0.00783357\n",
      "Iteration 203, loss = 0.00814705\n",
      "Iteration 204, loss = 0.00755323\n",
      "Iteration 205, loss = 0.00794802\n",
      "Iteration 206, loss = 0.00755155\n",
      "Iteration 207, loss = 0.00766597\n",
      "Iteration 208, loss = 0.00765093\n",
      "Iteration 209, loss = 0.00765873\n",
      "Iteration 210, loss = 0.00740960\n",
      "Iteration 211, loss = 0.00733899\n",
      "Iteration 212, loss = 0.00733568\n",
      "Iteration 213, loss = 0.00731822\n",
      "Iteration 214, loss = 0.00730504\n",
      "Iteration 215, loss = 0.00724613\n",
      "Iteration 216, loss = 0.00710561\n",
      "Iteration 217, loss = 0.00743141\n",
      "Iteration 218, loss = 0.00733706\n",
      "Iteration 219, loss = 0.00708082\n",
      "Iteration 220, loss = 0.00709765\n",
      "Iteration 221, loss = 0.00695600\n",
      "Iteration 222, loss = 0.00684345\n",
      "Iteration 223, loss = 0.00698662\n",
      "Iteration 224, loss = 0.00696347\n",
      "Iteration 225, loss = 0.00668727\n",
      "Iteration 226, loss = 0.00683192\n",
      "Iteration 227, loss = 0.00666351\n",
      "Iteration 228, loss = 0.00662485\n",
      "Iteration 229, loss = 0.00667753\n",
      "Iteration 230, loss = 0.00666555\n",
      "Iteration 231, loss = 0.00717921\n",
      "Iteration 232, loss = 0.00647139\n",
      "Iteration 233, loss = 0.00677380\n",
      "Iteration 234, loss = 0.00642708\n",
      "Iteration 235, loss = 0.00638796\n",
      "Iteration 236, loss = 0.00640147\n",
      "Iteration 237, loss = 0.00626792\n",
      "Iteration 238, loss = 0.00617408\n",
      "Iteration 239, loss = 0.00624999\n",
      "Iteration 240, loss = 0.00605773\n",
      "Iteration 241, loss = 0.00623445\n",
      "Iteration 242, loss = 0.00613168\n",
      "Iteration 243, loss = 0.00614328\n",
      "Iteration 244, loss = 0.00598075\n",
      "Iteration 245, loss = 0.00588641\n",
      "Iteration 246, loss = 0.00599150\n",
      "Iteration 247, loss = 0.00613686\n",
      "Iteration 248, loss = 0.00583472\n",
      "Iteration 249, loss = 0.00600462\n",
      "Iteration 250, loss = 0.00589113\n",
      "Iteration 251, loss = 0.00585478\n",
      "Iteration 252, loss = 0.00581416\n",
      "Iteration 253, loss = 0.00582639\n",
      "Iteration 254, loss = 0.00604253\n",
      "Iteration 255, loss = 0.00615859\n"
     ]
    },
    {
     "name": "stdout",
     "output_type": "stream",
     "text": [
      "Iteration 256, loss = 0.00565323\n",
      "Iteration 257, loss = 0.00555790\n",
      "Iteration 258, loss = 0.00550510\n",
      "Iteration 259, loss = 0.00560490\n",
      "Iteration 260, loss = 0.00550655\n",
      "Iteration 261, loss = 0.00540805\n",
      "Iteration 262, loss = 0.00546414\n",
      "Iteration 263, loss = 0.00543627\n",
      "Iteration 264, loss = 0.00544157\n",
      "Iteration 265, loss = 0.00562016\n",
      "Iteration 266, loss = 0.00545289\n",
      "Iteration 267, loss = 0.00535770\n",
      "Iteration 268, loss = 0.00522440\n",
      "Iteration 269, loss = 0.00514642\n",
      "Iteration 270, loss = 0.00541606\n",
      "Iteration 271, loss = 0.00548272\n",
      "Iteration 272, loss = 0.00527252\n",
      "Iteration 273, loss = 0.00521974\n",
      "Iteration 274, loss = 0.00502056\n",
      "Iteration 275, loss = 0.00533396\n",
      "Iteration 276, loss = 0.00489420\n",
      "Iteration 277, loss = 0.00532688\n",
      "Iteration 278, loss = 0.00491977\n",
      "Iteration 279, loss = 0.00489118\n",
      "Iteration 280, loss = 0.00491185\n",
      "Iteration 281, loss = 0.00480023\n",
      "Iteration 282, loss = 0.00492746\n",
      "Iteration 283, loss = 0.00485187\n",
      "Iteration 284, loss = 0.00477849\n",
      "Iteration 285, loss = 0.00481504\n",
      "Iteration 286, loss = 0.00466330\n",
      "Iteration 287, loss = 0.00474920\n",
      "Iteration 288, loss = 0.00462029\n",
      "Iteration 289, loss = 0.00473307\n",
      "Iteration 290, loss = 0.00456654\n",
      "Iteration 291, loss = 0.00461170\n",
      "Iteration 292, loss = 0.00449324\n",
      "Iteration 293, loss = 0.00453510\n",
      "Iteration 294, loss = 0.00444798\n",
      "Iteration 295, loss = 0.00453583\n",
      "Iteration 296, loss = 0.00460229\n",
      "Iteration 297, loss = 0.00473638\n",
      "Iteration 298, loss = 0.00431222\n",
      "Iteration 299, loss = 0.00462344\n",
      "Iteration 300, loss = 0.00455375\n",
      "Iteration 301, loss = 0.00476725\n",
      "Iteration 302, loss = 0.00514054\n",
      "Iteration 303, loss = 0.00449486\n",
      "Iteration 304, loss = 0.00471727\n",
      "Iteration 305, loss = 0.00434186\n",
      "Iteration 306, loss = 0.00414125\n",
      "Iteration 307, loss = 0.00423740\n",
      "Iteration 308, loss = 0.00433742\n",
      "Iteration 309, loss = 0.00428900\n",
      "Iteration 310, loss = 0.00407773\n",
      "Iteration 311, loss = 0.00428899\n",
      "Iteration 312, loss = 0.00413046\n",
      "Iteration 313, loss = 0.00395602\n",
      "Iteration 314, loss = 0.00407313\n",
      "Iteration 315, loss = 0.00410599\n",
      "Iteration 316, loss = 0.00415250\n",
      "Iteration 317, loss = 0.00416487\n",
      "Iteration 318, loss = 0.00406961\n",
      "Iteration 319, loss = 0.00468551\n",
      "Iteration 320, loss = 0.00411937\n",
      "Iteration 321, loss = 0.00401475\n",
      "Iteration 322, loss = 0.00383974\n",
      "Iteration 323, loss = 0.00405099\n",
      "Iteration 324, loss = 0.00371590\n",
      "Iteration 325, loss = 0.00379957\n",
      "Iteration 326, loss = 0.00373668\n",
      "Iteration 327, loss = 0.00373630\n",
      "Iteration 328, loss = 0.00376476\n",
      "Iteration 329, loss = 0.00371296\n",
      "Iteration 330, loss = 0.00372113\n",
      "Iteration 331, loss = 0.00365344\n",
      "Iteration 332, loss = 0.00360726\n",
      "Iteration 333, loss = 0.00371706\n",
      "Iteration 334, loss = 0.00367749\n",
      "Iteration 335, loss = 0.00372967\n",
      "Iteration 336, loss = 0.00370848\n",
      "Iteration 337, loss = 0.00343468\n",
      "Iteration 338, loss = 0.00354070\n",
      "Iteration 339, loss = 0.00369918\n",
      "Iteration 340, loss = 0.00362589\n",
      "Iteration 341, loss = 0.00369193\n",
      "Iteration 342, loss = 0.00335568\n",
      "Iteration 343, loss = 0.00352795\n",
      "Iteration 344, loss = 0.00349812\n",
      "Iteration 345, loss = 0.00333638\n",
      "Iteration 346, loss = 0.00347753\n",
      "Iteration 347, loss = 0.00326192\n",
      "Iteration 348, loss = 0.00345277\n",
      "Iteration 349, loss = 0.00335872\n",
      "Iteration 350, loss = 0.00327524\n",
      "Iteration 351, loss = 0.00329219\n",
      "Iteration 352, loss = 0.00330532\n",
      "Iteration 353, loss = 0.00318580\n",
      "Iteration 354, loss = 0.00335333\n",
      "Iteration 355, loss = 0.00316263\n",
      "Iteration 356, loss = 0.00318598\n",
      "Iteration 357, loss = 0.00326373\n",
      "Iteration 358, loss = 0.00324907\n",
      "Iteration 359, loss = 0.00314717\n",
      "Iteration 360, loss = 0.00330486\n",
      "Iteration 361, loss = 0.00310919\n",
      "Iteration 362, loss = 0.00317502\n",
      "Iteration 363, loss = 0.00303857\n",
      "Iteration 364, loss = 0.00308813\n",
      "Iteration 365, loss = 0.00301047\n",
      "Iteration 366, loss = 0.00304506\n",
      "Iteration 367, loss = 0.00308205\n",
      "Iteration 368, loss = 0.00301396\n",
      "Iteration 369, loss = 0.00292907\n",
      "Iteration 370, loss = 0.00344020\n",
      "Iteration 371, loss = 0.00332176\n",
      "Iteration 372, loss = 0.00320207\n",
      "Iteration 373, loss = 0.00297031\n",
      "Iteration 374, loss = 0.00312463\n",
      "Iteration 375, loss = 0.00293259\n",
      "Iteration 376, loss = 0.00295915\n",
      "Iteration 377, loss = 0.00297124\n",
      "Iteration 378, loss = 0.00288685\n",
      "Iteration 379, loss = 0.00284611\n",
      "Iteration 380, loss = 0.00291672\n",
      "Iteration 381, loss = 0.00284227\n",
      "Iteration 382, loss = 0.00296736\n",
      "Iteration 383, loss = 0.00284402\n",
      "Iteration 384, loss = 0.00269205\n",
      "Iteration 385, loss = 0.00275180\n",
      "Iteration 386, loss = 0.00274184\n",
      "Iteration 387, loss = 0.00277225\n",
      "Iteration 388, loss = 0.00277727\n",
      "Iteration 389, loss = 0.00266705\n",
      "Iteration 390, loss = 0.00268839\n",
      "Iteration 391, loss = 0.00274786\n",
      "Iteration 392, loss = 0.00259416\n",
      "Iteration 393, loss = 0.00273475\n",
      "Iteration 394, loss = 0.00267849\n",
      "Iteration 395, loss = 0.00271678\n",
      "Iteration 396, loss = 0.00262614\n",
      "Iteration 397, loss = 0.00256185\n",
      "Iteration 398, loss = 0.00252064\n",
      "Iteration 399, loss = 0.00269638\n",
      "Iteration 400, loss = 0.00258487\n",
      "Iteration 401, loss = 0.00291600\n",
      "Iteration 402, loss = 0.00251110\n",
      "Iteration 403, loss = 0.00285840\n",
      "Iteration 404, loss = 0.00329792\n",
      "Iteration 405, loss = 0.00275144\n",
      "Iteration 406, loss = 0.00254357\n",
      "Iteration 407, loss = 0.00265081\n",
      "Iteration 408, loss = 0.00258184\n",
      "Iteration 409, loss = 0.00251450\n",
      "Training loss did not improve more than tol=0.000010 for 10 consecutive epochs. Stopping.\n"
     ]
    },
    {
     "data": {
      "text/plain": [
       "MLPClassifier(hidden_layer_sizes=(20, 100), max_iter=1000, tol=1e-05,\n",
       "              verbose=True)"
      ]
     },
     "execution_count": 14,
     "metadata": {},
     "output_type": "execute_result"
    }
   ],
   "source": [
    "from sklearn.neural_network import MLPClassifier\n",
    "rede_neural_credit = MLPClassifier(max_iter = 1000, verbose = True, tol=0.0000100,  learning_rate_init= 0.001,\n",
    "                                  hidden_layer_sizes =(20,100))\n",
    "rede_neural_credit.fit(X_credit_treinamento, y_credit_treinamento)"
   ]
  },
  {
   "cell_type": "code",
   "execution_count": 15,
   "id": "bd854e2f",
   "metadata": {},
   "outputs": [
    {
     "data": {
      "text/plain": [
       "array([0, 0, 0, 1, 0, 0, 0, 0, 0, 0, 0, 0, 0, 0, 0, 0, 0, 0, 1, 0, 0, 0,\n",
       "       1, 1, 0, 1, 1, 0, 0, 0, 0, 0, 0, 0, 0, 0, 0, 0, 0, 1, 0, 0, 0, 0,\n",
       "       0, 0, 0, 0, 0, 0, 0, 0, 0, 1, 0, 0, 0, 0, 0, 0, 0, 0, 0, 0, 0, 0,\n",
       "       0, 0, 0, 0, 0, 0, 1, 0, 0, 0, 0, 1, 1, 0, 0, 0, 0, 0, 1, 0, 0, 0,\n",
       "       0, 1, 1, 0, 0, 0, 0, 0, 0, 0, 0, 0, 0, 1, 0, 0, 0, 1, 0, 0, 0, 0,\n",
       "       0, 0, 0, 0, 0, 0, 0, 0, 0, 0, 0, 1, 0, 1, 0, 1, 0, 0, 1, 0, 0, 0,\n",
       "       0, 0, 0, 0, 0, 0, 0, 0, 0, 0, 0, 0, 0, 0, 0, 1, 0, 0, 0, 0, 1, 0,\n",
       "       0, 0, 0, 0, 0, 0, 0, 0, 0, 0, 0, 0, 0, 0, 0, 0, 0, 0, 0, 1, 0, 0,\n",
       "       0, 1, 0, 0, 0, 0, 0, 0, 0, 0, 0, 0, 0, 0, 1, 0, 0, 0, 1, 0, 0, 0,\n",
       "       0, 0, 0, 0, 0, 0, 0, 1, 0, 0, 0, 0, 0, 0, 0, 0, 0, 0, 0, 0, 0, 0,\n",
       "       1, 1, 0, 0, 0, 0, 0, 0, 0, 1, 0, 0, 0, 0, 1, 1, 1, 0, 0, 0, 0, 0,\n",
       "       0, 0, 0, 0, 0, 0, 1, 0, 0, 0, 0, 0, 0, 0, 0, 0, 0, 0, 1, 0, 0, 0,\n",
       "       0, 0, 0, 0, 0, 0, 0, 0, 0, 0, 1, 0, 0, 0, 0, 0, 0, 0, 0, 0, 0, 0,\n",
       "       0, 1, 0, 0, 0, 0, 0, 0, 0, 0, 1, 0, 0, 0, 0, 0, 0, 0, 0, 0, 1, 0,\n",
       "       1, 0, 0, 0, 0, 0, 0, 1, 0, 1, 0, 1, 0, 0, 0, 0, 0, 0, 0, 0, 0, 0,\n",
       "       1, 0, 0, 0, 0, 0, 0, 0, 0, 0, 0, 1, 0, 0, 0, 0, 0, 0, 0, 0, 0, 0,\n",
       "       0, 0, 0, 0, 0, 0, 0, 0, 1, 0, 0, 0, 0, 0, 1, 0, 0, 0, 0, 0, 1, 0,\n",
       "       0, 0, 1, 0, 1, 0, 0, 0, 0, 0, 0, 0, 0, 0, 0, 1, 1, 0, 0, 0, 0, 0,\n",
       "       0, 0, 0, 0, 0, 0, 0, 0, 0, 1, 1, 0, 1, 0, 0, 0, 0, 0, 0, 0, 0, 1,\n",
       "       0, 0, 0, 0, 0, 0, 0, 0, 1, 0, 0, 0, 0, 0, 0, 0, 0, 0, 0, 0, 0, 0,\n",
       "       0, 1, 1, 0, 1, 0, 0, 0, 0, 0, 0, 0, 0, 0, 0, 0, 0, 0, 0, 0, 0, 1,\n",
       "       0, 1, 1, 0, 0, 0, 0, 0, 0, 0, 0, 1, 1, 0, 0, 1, 0, 1, 0, 0, 0, 0,\n",
       "       1, 0, 0, 0, 0, 0, 1, 0, 0, 0, 0, 0, 0, 0, 0, 0], dtype=int64)"
      ]
     },
     "execution_count": 15,
     "metadata": {},
     "output_type": "execute_result"
    }
   ],
   "source": [
    "previsoes = rede_neural_credit.predict(X_credit_teste)\n",
    "previsoes"
   ]
  },
  {
   "cell_type": "code",
   "execution_count": 16,
   "id": "d0c918a6",
   "metadata": {},
   "outputs": [
    {
     "data": {
      "text/plain": [
       "408     0\n",
       "1191    0\n",
       "677     0\n",
       "1360    1\n",
       "813     0\n",
       "       ..\n",
       "1900    0\n",
       "1524    0\n",
       "1415    0\n",
       "1306    0\n",
       "1767    0\n",
       "Name: default, Length: 500, dtype: int64"
      ]
     },
     "execution_count": 16,
     "metadata": {},
     "output_type": "execute_result"
    }
   ],
   "source": [
    "y_credit_teste"
   ]
  },
  {
   "cell_type": "code",
   "execution_count": 19,
   "id": "3f93ee81",
   "metadata": {},
   "outputs": [
    {
     "data": {
      "text/plain": [
       "0.994"
      ]
     },
     "execution_count": 19,
     "metadata": {},
     "output_type": "execute_result"
    }
   ],
   "source": [
    "from sklearn.metrics import accuracy_score, classification_report\n",
    "accuracy_score(previsoes, y_credit_teste)"
   ]
  },
  {
   "cell_type": "code",
   "execution_count": null,
   "id": "ae6d4b20",
   "metadata": {},
   "outputs": [],
   "source": []
  },
  {
   "cell_type": "code",
   "execution_count": null,
   "id": "164ccfbf",
   "metadata": {},
   "outputs": [],
   "source": []
  }
 ],
 "metadata": {
  "kernelspec": {
   "display_name": "Python 3 (ipykernel)",
   "language": "python",
   "name": "python3"
  },
  "language_info": {
   "codemirror_mode": {
    "name": "ipython",
    "version": 3
   },
   "file_extension": ".py",
   "mimetype": "text/x-python",
   "name": "python",
   "nbconvert_exporter": "python",
   "pygments_lexer": "ipython3",
   "version": "3.9.13"
  }
 },
 "nbformat": 4,
 "nbformat_minor": 5
}
