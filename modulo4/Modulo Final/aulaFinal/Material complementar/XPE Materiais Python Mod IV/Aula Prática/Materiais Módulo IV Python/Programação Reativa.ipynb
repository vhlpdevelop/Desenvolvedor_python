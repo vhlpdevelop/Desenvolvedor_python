{
 "cells": [
  {
   "cell_type": "code",
   "execution_count": 20,
   "id": "623ad3fd",
   "metadata": {},
   "outputs": [
    {
     "name": "stdout",
     "output_type": "stream",
     "text": [
      "Recebido: IGTI 1\n",
      "Recebido: IGTI 2\n",
      "Recebido: IGTI 2\n",
      "Recebido: IGTI 4\n",
      "Recebido: IGTI 5\n",
      "Finalizado!\n"
     ]
    },
    {
     "data": {
      "text/plain": [
       "<rx.disposable.disposable.Disposable at 0x265dd2d8ee0>"
      ]
     },
     "execution_count": 20,
     "metadata": {},
     "output_type": "execute_result"
    }
   ],
   "source": [
    "from rx import create\n",
    "\n",
    "def envia_strings(observer, scheduler):\n",
    "    observer.on_next(\"IGTI 1\")\n",
    "    observer.on_next(\"IGTI 2\")\n",
    "    observer.on_next(\"IGTI 2\")\n",
    "    observer.on_next(\"IGTI 4\")\n",
    "    observer.on_next(\"IGTI 5\")\n",
    "    observer.on_completed()\n",
    "\n",
    "source = create(envia_strings)\n",
    "\n",
    "source.subscribe(\n",
    "    on_next = lambda i: print(\"Recebido: {0}\".format(i)),\n",
    "    on_error = lambda e: print(\"Error Occurred: {0}\".format(e)),\n",
    "    on_completed = lambda: print(\"Finalizado!\"),\n",
    ")"
   ]
  },
  {
   "cell_type": "code",
   "execution_count": null,
   "id": "9540f693",
   "metadata": {},
   "outputs": [],
   "source": []
  }
 ],
 "metadata": {
  "kernelspec": {
   "display_name": "Python 3 (ipykernel)",
   "language": "python",
   "name": "python3"
  },
  "language_info": {
   "codemirror_mode": {
    "name": "ipython",
    "version": 3
   },
   "file_extension": ".py",
   "mimetype": "text/x-python",
   "name": "python",
   "nbconvert_exporter": "python",
   "pygments_lexer": "ipython3",
   "version": "3.9.7"
  }
 },
 "nbformat": 4,
 "nbformat_minor": 5
}
