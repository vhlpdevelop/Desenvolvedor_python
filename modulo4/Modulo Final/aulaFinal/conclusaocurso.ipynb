{
 "cells": [
  {
   "cell_type": "code",
   "execution_count": 6,
   "id": "e20a6678-c936-4b58-bc3d-fed4ae9f6fa4",
   "metadata": {},
   "outputs": [
    {
     "data": {
      "text/plain": [
       "(32, 2)"
      ]
     },
     "execution_count": 6,
     "metadata": {},
     "output_type": "execute_result"
    }
   ],
   "source": [
    "import pandas as pd\n",
    "import requests\n",
    "import json\n",
    "\n",
    "\n",
    "df = pd.read_csv('salary_data.csv')\n",
    "df.shape"
   ]
  },
  {
   "cell_type": "code",
   "execution_count": 8,
   "id": "d645c64d-9a7a-48b6-adf5-cbb214d7832e",
   "metadata": {},
   "outputs": [
    {
     "data": {
      "text/plain": [
       "{'Nome': 28859.53}"
      ]
     },
     "execution_count": 8,
     "metadata": {},
     "output_type": "execute_result"
    }
   ],
   "source": [
    "url = 'https://as5jmctylk.execute-api.us-east-1.amazonaws.com/default/demo_forecast'\n",
    "\n",
    "data = {'Nome':0\n",
    "       }\n",
    "request = requests.post(url, data=json.dumps(data))\n",
    "\n",
    "response=request.json()\n",
    "response"
   ]
  },
  {
   "cell_type": "code",
   "execution_count": 7,
   "id": "dbd37de3-0061-4907-9a48-3ae97ea265e3",
   "metadata": {},
   "outputs": [
    {
     "data": {
      "text/plain": [
       "np.float64(79278.04)"
      ]
     },
     "execution_count": 7,
     "metadata": {},
     "output_type": "execute_result"
    }
   ],
   "source": [
    "# Calculando a média da coluna Salary\n",
    "mean_salary = df['Salary'].mean()\n",
    "\n",
    "# Arredondando para 2 casas decimais\n",
    "mean_salary_rounded = round(mean_salary, 2)\n",
    "mean_salary_rounded"
   ]
  },
  {
   "cell_type": "code",
   "execution_count": 8,
   "id": "5e5a6f5c-4a11-421b-8118-74fe36af44bf",
   "metadata": {},
   "outputs": [
    {
     "data": {
      "text/plain": [
       "(30,)"
      ]
     },
     "execution_count": 8,
     "metadata": {},
     "output_type": "execute_result"
    }
   ],
   "source": [
    "y.shape"
   ]
  },
  {
   "cell_type": "code",
   "execution_count": 11,
   "id": "6daf3fa5-58f5-435d-95f6-beda86b4dc27",
   "metadata": {},
   "outputs": [
    {
     "name": "stdout",
     "output_type": "stream",
     "text": [
      "10.5\n"
     ]
    }
   ],
   "source": [
    "df['Ratio'] = df['Salary'] / df['YearsExperience']\n",
    "\n",
    "# Encontrando o índice da maior razão\n",
    "max_ratio_index = df['Ratio'].idxmin()\n",
    "\n",
    "# Obtendo os anos de experiência correspondentes\n",
    "years_experience = df.loc[max_ratio_index, 'YearsExperience']\n",
    "\n",
    "print(years_experience)"
   ]
  },
  {
   "cell_type": "code",
   "execution_count": null,
   "id": "03b7a66f-03b0-442e-9ea2-030a52a57d96",
   "metadata": {},
   "outputs": [],
   "source": []
  }
 ],
 "metadata": {
  "kernelspec": {
   "display_name": "Python 3 (ipykernel)",
   "language": "python",
   "name": "python3"
  },
  "language_info": {
   "codemirror_mode": {
    "name": "ipython",
    "version": 3
   },
   "file_extension": ".py",
   "mimetype": "text/x-python",
   "name": "python",
   "nbconvert_exporter": "python",
   "pygments_lexer": "ipython3",
   "version": "3.12.2"
  }
 },
 "nbformat": 4,
 "nbformat_minor": 5
}
