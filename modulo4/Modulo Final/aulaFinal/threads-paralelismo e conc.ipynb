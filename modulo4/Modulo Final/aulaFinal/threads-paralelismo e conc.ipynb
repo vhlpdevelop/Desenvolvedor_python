{
 "cells": [
  {
   "cell_type": "code",
   "execution_count": 1,
   "id": "0c280ffc-3879-42d3-b7b8-6fc618f5a5e2",
   "metadata": {},
   "outputs": [
    {
     "name": "stdout",
     "output_type": "stream",
     "text": [
      "Ola bootcamps\n",
      "0\n",
      "1\n",
      "2\n",
      "3\n",
      "4\n",
      "5\n",
      "6\n",
      "7\n",
      "8\n",
      "9\n",
      "processo finalizado\n"
     ]
    }
   ],
   "source": [
    "from time import sleep\n",
    "#EXPLICANDO COMO FUNCIONA O THREADS\n",
    "print('Ola bootcamps')\n",
    "for i in range (10):\n",
    "    print(i)\n",
    "    sleep(.5)\n",
    "print('processo finalizado')\n",
    "\n",
    "#A ideia é que o processo ou segmento vai sequencial.\n",
    "#Conceito de thread é um processo nao depender de outro"
   ]
  },
  {
   "cell_type": "code",
   "execution_count": 4,
   "id": "123d9e51-29f9-4ccb-9f14-f487b5d51ed4",
   "metadata": {},
   "outputs": [
    {
     "name": "stdout",
     "output_type": "stream",
     "text": [
      "0\n",
      "1\n",
      "2\n",
      "3\n",
      "4\n",
      "IGThread\n",
      "5\n",
      "6\n",
      "7\n",
      "IGThread 3\n",
      "8\n",
      "9\n",
      "IGThread 2\n",
      "10\n",
      "11\n",
      "12\n",
      "13\n",
      "14\n",
      "15\n",
      "16\n",
      "17\n",
      "18\n",
      "19\n"
     ]
    }
   ],
   "source": [
    "#Usando thread\n",
    "from threading import Thread\n",
    "class IGThread(Thread): #Apenas um thread\n",
    "    def __init__(self, texto, tempo):\n",
    "        self.texto = texto\n",
    "        self.tempo = tempo\n",
    "\n",
    "        super().__init__()#Iniciando o processo thread\n",
    "    \n",
    "    def run(self):\n",
    "        sleep(self.tempo)        \n",
    "        print(self.texto)\n",
    "t1 = IGThread('IGThread', 5)\n",
    "t1.start()\n",
    "\n",
    "#É POSSIVEL CRIAR VARIAS THREADS\n",
    "t2 = IGThread('IGThread 2', 10)\n",
    "t2.start()\n",
    "\n",
    "t3 = IGThread('IGThread 3', 8)\n",
    "t3.start()\n",
    "\n",
    "\n",
    "for i in range(20):\n",
    "    print(i)\n",
    "    sleep(1)"
   ]
  },
  {
   "cell_type": "code",
   "execution_count": null,
   "id": "e55cc1d3-b86a-4eba-86aa-98f378c2e52d",
   "metadata": {},
   "outputs": [],
   "source": []
  }
 ],
 "metadata": {
  "kernelspec": {
   "display_name": "analise_dados",
   "language": "python",
   "name": "analise_dados"
  },
  "language_info": {
   "codemirror_mode": {
    "name": "ipython",
    "version": 3
   },
   "file_extension": ".py",
   "mimetype": "text/x-python",
   "name": "python",
   "nbconvert_exporter": "python",
   "pygments_lexer": "ipython3",
   "version": "3.12.2"
  }
 },
 "nbformat": 4,
 "nbformat_minor": 5
}
