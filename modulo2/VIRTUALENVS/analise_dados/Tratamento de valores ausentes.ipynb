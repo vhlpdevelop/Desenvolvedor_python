{
 "cells": [
  {
   "cell_type": "code",
   "execution_count": 1,
   "id": "f084a07b-39f0-4ceb-8552-8af9514e2608",
   "metadata": {},
   "outputs": [],
   "source": [
    "#Usando simpleImputer, permite lidar com dados ausentes em conjuntos de dados\n",
    "#Ele oferece estrategias como media, mediana, valor mais frequente e valor fixo\n",
    "\n",
    "from sklearn.impute import SimpleImputer\n",
    "import pandas as pd\n"
   ]
  },
  {
   "cell_type": "code",
   "execution_count": 4,
   "id": "213ade1a-4828-4119-b053-344244d071ea",
   "metadata": {},
   "outputs": [
    {
     "name": "stdout",
     "output_type": "stream",
     "text": [
      "Conjunto de dados original\n",
      "     A    B    C\n",
      "0  1.0  NaN  1.0\n",
      "1  2.0  2.0  2.0\n",
      "2  NaN  3.0  3.0\n",
      "3  4.0  4.0  4.0\n",
      "4  5.0  5.0  NaN\n",
      "\n",
      " Conjunto de dados ausentes tratados\n",
      "     A    B    C\n",
      "0  1.0  3.5  1.0\n",
      "1  2.0  2.0  2.0\n",
      "2  3.0  3.0  3.0\n",
      "3  4.0  4.0  4.0\n",
      "4  5.0  5.0  2.5\n"
     ]
    }
   ],
   "source": [
    "#Primeiro exemplo\n",
    "dados = {\n",
    "    'A': [1,2,None,4,5],\n",
    "    'B': [None,2,3,4,5],\n",
    "    'C': [1,2,3,4,None]\n",
    "}\n",
    "df = pd.DataFrame(dados)\n",
    "\n",
    "#Criando instancia do simpleImputer\n",
    "imputer = SimpleImputer(strategy='mean')\n",
    "\n",
    "#Aplicando imputer\n",
    "#PRIMEIRO vem o treinamento\n",
    "df_imputer = pd.DataFrame(imputer.fit_transform(df), columns=df.columns)\n",
    "#Criado novo dataframe para visualizar\n",
    "print('Conjunto de dados original')\n",
    "print(df)\n",
    "print('\\n Conjunto de dados ausentes tratados')\n",
    "print(df_imputer)"
   ]
  },
  {
   "cell_type": "code",
   "execution_count": 7,
   "id": "4abf8abe-1e1e-42bf-a0c9-9b68c5f76bb9",
   "metadata": {},
   "outputs": [
    {
     "name": "stdout",
     "output_type": "stream",
     "text": [
      "Conjunto de dados original\n",
      "   Matematica  Portugues  Fisica  Biologia\n",
      "0        80.0       60.0      80      78.0\n",
      "1        90.0       65.0      57      83.0\n",
      "2         NaN       56.0      80      67.0\n",
      "3        95.0        NaN      78       NaN\n",
      "\n",
      " Conjunto de dados ausentes tratados\n",
      "   Matematica  Portugues  Fisica  Biologia\n",
      "0        80.0       60.0    80.0      78.0\n",
      "1        90.0       65.0    57.0      83.0\n",
      "2        87.5       56.0    80.0      67.0\n",
      "3        95.0       58.0    78.0      72.5\n"
     ]
    }
   ],
   "source": [
    "#Utilizando KNNImputer\n",
    "#Trabalha com distancias entre as instancias com valores faltantes\n",
    "#Vantagem leva em consideração as relações e a estrutura de dados para preencher os valores ausentes\n",
    "#Especialmente em casos onde as variaveis estao correlacionadas\n",
    "\n",
    "from sklearn.impute import KNNImputer\n",
    "import numpy as np\n",
    "\n",
    "dados = {\n",
    "    'Matematica':[80,90,np.nan, 95],\n",
    "    'Portugues':[60,65,56,np.nan],\n",
    "    'Fisica':[80,57,80,78],\n",
    "    'Biologia':[78, 83,67,np.nan]\n",
    "}\n",
    "df = pd.DataFrame(dados)\n",
    "\n",
    "#Criando instancia KNN\n",
    "imputer = KNNImputer(n_neighbors=2)\n",
    "\n",
    "#Aplicar o imputer\n",
    "df_imputer = pd.DataFrame(imputer.fit_transform(df), columns=df.columns)\n",
    "\n",
    "\n",
    "print('Conjunto de dados original')\n",
    "print(df)\n",
    "print('\\n Conjunto de dados ausentes tratados')\n",
    "print(df_imputer)"
   ]
  },
  {
   "cell_type": "code",
   "execution_count": 19,
   "id": "6f25c5c1-87c3-4e9f-8bef-70c4c0458231",
   "metadata": {},
   "outputs": [
    {
     "name": "stdout",
     "output_type": "stream",
     "text": [
      "Conjunto de dados original\n",
      "   Matematica  Portugues  Fisica  Biologia\n",
      "0        80.0       60.0     NaN      78.0\n",
      "1        90.0       65.0    57.0      83.0\n",
      "2         NaN       56.0    80.0      67.0\n",
      "3        95.0        NaN    78.0       NaN\n",
      "\n",
      " Conjunto de dados ausentes tratados\n",
      "   Matematica  Portugues  Fisica  Biologia\n",
      "0       False      False    True     False\n",
      "1       False      False   False     False\n",
      "2        True      False   False     False\n",
      "3       False       True   False      True\n"
     ]
    }
   ],
   "source": [
    "#Usando MissingIndicator\n",
    "#Util para criar representacao binaria indicado se tem valor ausente ou nao em cada instancia do conjunto de dados\n",
    "from sklearn.impute import MissingIndicator\n",
    "dados = {\n",
    "    'Matematica':[80,90,np.nan, 95],\n",
    "    'Portugues':[60,65,56,np.nan],\n",
    "    'Fisica':[np.nan,57,80,78],\n",
    "    'Biologia':[78, 83,67,np.nan]\n",
    "}\n",
    "df = pd.DataFrame(dados)\n",
    "indicator= MissingIndicator()\n",
    "indicator.fit(df)\n",
    "\n",
    "df_imputer = pd.DataFrame(indicator.transform(df), columns=df.columns)\n",
    "print('Conjunto de dados original')\n",
    "print(df)\n",
    "print('\\n Conjunto de dados ausentes tratados')\n",
    "print(df_imputer)"
   ]
  },
  {
   "cell_type": "code",
   "execution_count": null,
   "id": "8e66cc57-e5c2-42dc-8f3c-212a1d84e6c1",
   "metadata": {},
   "outputs": [],
   "source": [
    "\n"
   ]
  }
 ],
 "metadata": {
  "kernelspec": {
   "display_name": "analise_dados",
   "language": "python",
   "name": "analise_dados"
  },
  "language_info": {
   "codemirror_mode": {
    "name": "ipython",
    "version": 3
   },
   "file_extension": ".py",
   "mimetype": "text/x-python",
   "name": "python",
   "nbconvert_exporter": "python",
   "pygments_lexer": "ipython3",
   "version": "3.12.2"
  }
 },
 "nbformat": 4,
 "nbformat_minor": 5
}
