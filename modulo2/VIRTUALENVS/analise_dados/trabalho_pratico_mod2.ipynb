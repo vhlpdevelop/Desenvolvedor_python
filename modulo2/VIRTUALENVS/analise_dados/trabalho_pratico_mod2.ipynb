{
 "cells": [
  {
   "cell_type": "code",
   "execution_count": 91,
   "id": "65f92758-331a-4f04-8937-81c206a70d04",
   "metadata": {},
   "outputs": [
    {
     "data": {
      "text/html": [
       "<div>\n",
       "<style scoped>\n",
       "    .dataframe tbody tr th:only-of-type {\n",
       "        vertical-align: middle;\n",
       "    }\n",
       "\n",
       "    .dataframe tbody tr th {\n",
       "        vertical-align: top;\n",
       "    }\n",
       "\n",
       "    .dataframe thead th {\n",
       "        text-align: right;\n",
       "    }\n",
       "</style>\n",
       "<table border=\"1\" class=\"dataframe\">\n",
       "  <thead>\n",
       "    <tr style=\"text-align: right;\">\n",
       "      <th></th>\n",
       "      <th>Produto</th>\n",
       "      <th>Quantidade</th>\n",
       "      <th>Preco_Unitario</th>\n",
       "      <th>Valor_Total</th>\n",
       "      <th>Data</th>\n",
       "      <th>Estado</th>\n",
       "    </tr>\n",
       "  </thead>\n",
       "  <tbody>\n",
       "    <tr>\n",
       "      <th>0</th>\n",
       "      <td>Produto 10</td>\n",
       "      <td>5</td>\n",
       "      <td>6.03</td>\n",
       "      <td>30.15</td>\n",
       "      <td>05/10/2023 10:03</td>\n",
       "      <td>RS</td>\n",
       "    </tr>\n",
       "    <tr>\n",
       "      <th>1</th>\n",
       "      <td>Produto 2</td>\n",
       "      <td>9</td>\n",
       "      <td>20.48</td>\n",
       "      <td>184.32</td>\n",
       "      <td>17/03/2023 14:03</td>\n",
       "      <td>RJ</td>\n",
       "    </tr>\n",
       "    <tr>\n",
       "      <th>2</th>\n",
       "      <td>Produto 5</td>\n",
       "      <td>3</td>\n",
       "      <td>25.39</td>\n",
       "      <td>76.17</td>\n",
       "      <td>20/04/2023 09:03</td>\n",
       "      <td>BA</td>\n",
       "    </tr>\n",
       "    <tr>\n",
       "      <th>3</th>\n",
       "      <td>Produto 6</td>\n",
       "      <td>3</td>\n",
       "      <td>10.73</td>\n",
       "      <td>32.19</td>\n",
       "      <td>21/09/2023 15:03</td>\n",
       "      <td>AM</td>\n",
       "    </tr>\n",
       "    <tr>\n",
       "      <th>4</th>\n",
       "      <td>Produto 8</td>\n",
       "      <td>4</td>\n",
       "      <td>34.67</td>\n",
       "      <td>138.68</td>\n",
       "      <td>04/09/2023 01:03</td>\n",
       "      <td>SP</td>\n",
       "    </tr>\n",
       "  </tbody>\n",
       "</table>\n",
       "</div>"
      ],
      "text/plain": [
       "      Produto  Quantidade  Preco_Unitario  Valor_Total              Data  \\\n",
       "0  Produto 10           5            6.03        30.15  05/10/2023 10:03   \n",
       "1   Produto 2           9           20.48       184.32  17/03/2023 14:03   \n",
       "2   Produto 5           3           25.39        76.17  20/04/2023 09:03   \n",
       "3   Produto 6           3           10.73        32.19  21/09/2023 15:03   \n",
       "4   Produto 8           4           34.67       138.68  04/09/2023 01:03   \n",
       "\n",
       "  Estado  \n",
       "0     RS  \n",
       "1     RJ  \n",
       "2     BA  \n",
       "3     AM  \n",
       "4     SP  "
      ]
     },
     "execution_count": 91,
     "metadata": {},
     "output_type": "execute_result"
    }
   ],
   "source": [
    "import pandas as pd\n",
    "import numpy as np\n",
    "import os\n",
    "\n",
    "#Importando csv\n",
    "df = pd.read_csv('../../data_sets/vendas_produtos_financeiros.csv', sep=';')\n",
    "df.head()"
   ]
  },
  {
   "cell_type": "code",
   "execution_count": 10,
   "id": "15c7d237-dd76-4707-b5ce-c9cb401956e7",
   "metadata": {},
   "outputs": [
    {
     "data": {
      "text/html": [
       "<div>\n",
       "<style scoped>\n",
       "    .dataframe tbody tr th:only-of-type {\n",
       "        vertical-align: middle;\n",
       "    }\n",
       "\n",
       "    .dataframe tbody tr th {\n",
       "        vertical-align: top;\n",
       "    }\n",
       "\n",
       "    .dataframe thead th {\n",
       "        text-align: right;\n",
       "    }\n",
       "</style>\n",
       "<table border=\"1\" class=\"dataframe\">\n",
       "  <thead>\n",
       "    <tr style=\"text-align: right;\">\n",
       "      <th></th>\n",
       "      <th>Produto</th>\n",
       "      <th>Quantidade</th>\n",
       "      <th>Preco_Unitario</th>\n",
       "      <th>Valor_Total</th>\n",
       "      <th>Data</th>\n",
       "      <th>Estado</th>\n",
       "    </tr>\n",
       "  </thead>\n",
       "  <tbody>\n",
       "    <tr>\n",
       "      <th>0</th>\n",
       "      <td>False</td>\n",
       "      <td>False</td>\n",
       "      <td>False</td>\n",
       "      <td>False</td>\n",
       "      <td>False</td>\n",
       "      <td>False</td>\n",
       "    </tr>\n",
       "    <tr>\n",
       "      <th>1</th>\n",
       "      <td>False</td>\n",
       "      <td>False</td>\n",
       "      <td>False</td>\n",
       "      <td>False</td>\n",
       "      <td>False</td>\n",
       "      <td>False</td>\n",
       "    </tr>\n",
       "    <tr>\n",
       "      <th>2</th>\n",
       "      <td>False</td>\n",
       "      <td>False</td>\n",
       "      <td>False</td>\n",
       "      <td>False</td>\n",
       "      <td>False</td>\n",
       "      <td>False</td>\n",
       "    </tr>\n",
       "    <tr>\n",
       "      <th>3</th>\n",
       "      <td>False</td>\n",
       "      <td>False</td>\n",
       "      <td>False</td>\n",
       "      <td>False</td>\n",
       "      <td>False</td>\n",
       "      <td>False</td>\n",
       "    </tr>\n",
       "    <tr>\n",
       "      <th>4</th>\n",
       "      <td>False</td>\n",
       "      <td>False</td>\n",
       "      <td>False</td>\n",
       "      <td>False</td>\n",
       "      <td>False</td>\n",
       "      <td>False</td>\n",
       "    </tr>\n",
       "    <tr>\n",
       "      <th>...</th>\n",
       "      <td>...</td>\n",
       "      <td>...</td>\n",
       "      <td>...</td>\n",
       "      <td>...</td>\n",
       "      <td>...</td>\n",
       "      <td>...</td>\n",
       "    </tr>\n",
       "    <tr>\n",
       "      <th>2026</th>\n",
       "      <td>False</td>\n",
       "      <td>False</td>\n",
       "      <td>False</td>\n",
       "      <td>False</td>\n",
       "      <td>False</td>\n",
       "      <td>False</td>\n",
       "    </tr>\n",
       "    <tr>\n",
       "      <th>2027</th>\n",
       "      <td>False</td>\n",
       "      <td>False</td>\n",
       "      <td>False</td>\n",
       "      <td>False</td>\n",
       "      <td>False</td>\n",
       "      <td>False</td>\n",
       "    </tr>\n",
       "    <tr>\n",
       "      <th>2028</th>\n",
       "      <td>False</td>\n",
       "      <td>False</td>\n",
       "      <td>False</td>\n",
       "      <td>False</td>\n",
       "      <td>False</td>\n",
       "      <td>False</td>\n",
       "    </tr>\n",
       "    <tr>\n",
       "      <th>2029</th>\n",
       "      <td>False</td>\n",
       "      <td>False</td>\n",
       "      <td>False</td>\n",
       "      <td>False</td>\n",
       "      <td>False</td>\n",
       "      <td>False</td>\n",
       "    </tr>\n",
       "    <tr>\n",
       "      <th>2030</th>\n",
       "      <td>False</td>\n",
       "      <td>False</td>\n",
       "      <td>False</td>\n",
       "      <td>False</td>\n",
       "      <td>False</td>\n",
       "      <td>False</td>\n",
       "    </tr>\n",
       "  </tbody>\n",
       "</table>\n",
       "<p>2031 rows × 6 columns</p>\n",
       "</div>"
      ],
      "text/plain": [
       "      Produto  Quantidade  Preco_Unitario  Valor_Total   Data  Estado\n",
       "0       False       False           False        False  False   False\n",
       "1       False       False           False        False  False   False\n",
       "2       False       False           False        False  False   False\n",
       "3       False       False           False        False  False   False\n",
       "4       False       False           False        False  False   False\n",
       "...       ...         ...             ...          ...    ...     ...\n",
       "2026    False       False           False        False  False   False\n",
       "2027    False       False           False        False  False   False\n",
       "2028    False       False           False        False  False   False\n",
       "2029    False       False           False        False  False   False\n",
       "2030    False       False           False        False  False   False\n",
       "\n",
       "[2031 rows x 6 columns]"
      ]
     },
     "execution_count": 10,
     "metadata": {},
     "output_type": "execute_result"
    }
   ],
   "source": [
    "#Fazendo tratamento dos dados antes \n",
    "#verificando\n",
    "df.isna()"
   ]
  },
  {
   "cell_type": "code",
   "execution_count": 92,
   "id": "d6d3da3e-09ef-4ced-b176-5e626ba3ad88",
   "metadata": {},
   "outputs": [
    {
     "data": {
      "text/plain": [
       "Produto            5\n",
       "Quantidade         0\n",
       "Preco_Unitario    12\n",
       "Valor_Total       10\n",
       "Data               0\n",
       "Estado             0\n",
       "dtype: int64"
      ]
     },
     "execution_count": 92,
     "metadata": {},
     "output_type": "execute_result"
    }
   ],
   "source": [
    "#Verificando novamente\n",
    "df.isna().sum()"
   ]
  },
  {
   "cell_type": "code",
   "execution_count": 9,
   "id": "1666558e-e856-4a83-a726-400c6337c31d",
   "metadata": {},
   "outputs": [
    {
     "data": {
      "text/html": [
       "<div>\n",
       "<style scoped>\n",
       "    .dataframe tbody tr th:only-of-type {\n",
       "        vertical-align: middle;\n",
       "    }\n",
       "\n",
       "    .dataframe tbody tr th {\n",
       "        vertical-align: top;\n",
       "    }\n",
       "\n",
       "    .dataframe thead th {\n",
       "        text-align: right;\n",
       "    }\n",
       "</style>\n",
       "<table border=\"1\" class=\"dataframe\">\n",
       "  <thead>\n",
       "    <tr style=\"text-align: right;\">\n",
       "      <th></th>\n",
       "      <th>Produto</th>\n",
       "      <th>Quantidade</th>\n",
       "      <th>Preco_Unitario</th>\n",
       "      <th>Valor_Total</th>\n",
       "      <th>Data</th>\n",
       "      <th>Estado</th>\n",
       "    </tr>\n",
       "  </thead>\n",
       "  <tbody>\n",
       "    <tr>\n",
       "      <th>0</th>\n",
       "      <td>Produto 10</td>\n",
       "      <td>5.0</td>\n",
       "      <td>6.03</td>\n",
       "      <td>30.15</td>\n",
       "      <td>05/10/2023 10:03</td>\n",
       "      <td>RS</td>\n",
       "    </tr>\n",
       "    <tr>\n",
       "      <th>1</th>\n",
       "      <td>Produto 2</td>\n",
       "      <td>9.0</td>\n",
       "      <td>20.48</td>\n",
       "      <td>184.32</td>\n",
       "      <td>17/03/2023 14:03</td>\n",
       "      <td>RJ</td>\n",
       "    </tr>\n",
       "    <tr>\n",
       "      <th>2</th>\n",
       "      <td>Produto 5</td>\n",
       "      <td>3.0</td>\n",
       "      <td>25.39</td>\n",
       "      <td>76.17</td>\n",
       "      <td>20/04/2023 09:03</td>\n",
       "      <td>BA</td>\n",
       "    </tr>\n",
       "    <tr>\n",
       "      <th>3</th>\n",
       "      <td>Produto 6</td>\n",
       "      <td>3.0</td>\n",
       "      <td>10.73</td>\n",
       "      <td>32.19</td>\n",
       "      <td>21/09/2023 15:03</td>\n",
       "      <td>AM</td>\n",
       "    </tr>\n",
       "    <tr>\n",
       "      <th>4</th>\n",
       "      <td>Produto 8</td>\n",
       "      <td>4.0</td>\n",
       "      <td>34.67</td>\n",
       "      <td>138.68</td>\n",
       "      <td>04/09/2023 01:03</td>\n",
       "      <td>SP</td>\n",
       "    </tr>\n",
       "    <tr>\n",
       "      <th>...</th>\n",
       "      <td>...</td>\n",
       "      <td>...</td>\n",
       "      <td>...</td>\n",
       "      <td>...</td>\n",
       "      <td>...</td>\n",
       "      <td>...</td>\n",
       "    </tr>\n",
       "    <tr>\n",
       "      <th>2026</th>\n",
       "      <td>Produto 6</td>\n",
       "      <td>10.0</td>\n",
       "      <td>3.58</td>\n",
       "      <td>35.80</td>\n",
       "      <td>05/04/2023 19:03</td>\n",
       "      <td>SP</td>\n",
       "    </tr>\n",
       "    <tr>\n",
       "      <th>2027</th>\n",
       "      <td>Produto 4</td>\n",
       "      <td>8.0</td>\n",
       "      <td>20.38</td>\n",
       "      <td>163.04</td>\n",
       "      <td>07/03/2023 09:03</td>\n",
       "      <td>SP</td>\n",
       "    </tr>\n",
       "    <tr>\n",
       "      <th>2028</th>\n",
       "      <td>Produto 10</td>\n",
       "      <td>8.0</td>\n",
       "      <td>8.12</td>\n",
       "      <td>64.96</td>\n",
       "      <td>21/11/2022 21:03</td>\n",
       "      <td>PR</td>\n",
       "    </tr>\n",
       "    <tr>\n",
       "      <th>2029</th>\n",
       "      <td>Produto 3</td>\n",
       "      <td>2.0</td>\n",
       "      <td>17.09</td>\n",
       "      <td>34.18</td>\n",
       "      <td>01/04/2023 14:03</td>\n",
       "      <td>PR</td>\n",
       "    </tr>\n",
       "    <tr>\n",
       "      <th>2030</th>\n",
       "      <td>Produto 10</td>\n",
       "      <td>7.0</td>\n",
       "      <td>14.50</td>\n",
       "      <td>101.50</td>\n",
       "      <td>19/06/2023 09:03</td>\n",
       "      <td>SP</td>\n",
       "    </tr>\n",
       "  </tbody>\n",
       "</table>\n",
       "<p>2031 rows × 6 columns</p>\n",
       "</div>"
      ],
      "text/plain": [
       "         Produto  Quantidade  Preco_Unitario  Valor_Total              Data  \\\n",
       "0     Produto 10         5.0            6.03        30.15  05/10/2023 10:03   \n",
       "1      Produto 2         9.0           20.48       184.32  17/03/2023 14:03   \n",
       "2      Produto 5         3.0           25.39        76.17  20/04/2023 09:03   \n",
       "3      Produto 6         3.0           10.73        32.19  21/09/2023 15:03   \n",
       "4      Produto 8         4.0           34.67       138.68  04/09/2023 01:03   \n",
       "...          ...         ...             ...          ...               ...   \n",
       "2026   Produto 6        10.0            3.58        35.80  05/04/2023 19:03   \n",
       "2027   Produto 4         8.0           20.38       163.04  07/03/2023 09:03   \n",
       "2028  Produto 10         8.0            8.12        64.96  21/11/2022 21:03   \n",
       "2029   Produto 3         2.0           17.09        34.18  01/04/2023 14:03   \n",
       "2030  Produto 10         7.0           14.50       101.50  19/06/2023 09:03   \n",
       "\n",
       "     Estado  \n",
       "0        RS  \n",
       "1        RJ  \n",
       "2        BA  \n",
       "3        AM  \n",
       "4        SP  \n",
       "...     ...  \n",
       "2026     SP  \n",
       "2027     SP  \n",
       "2028     PR  \n",
       "2029     PR  \n",
       "2030     SP  \n",
       "\n",
       "[2031 rows x 6 columns]"
      ]
     },
     "execution_count": 9,
     "metadata": {},
     "output_type": "execute_result"
    }
   ],
   "source": [
    "#usando where\n",
    "df.where(df['Preco_Unitario']>=1)"
   ]
  },
  {
   "cell_type": "code",
   "execution_count": 16,
   "id": "74d43398-eff4-421b-839f-2107b5068871",
   "metadata": {},
   "outputs": [
    {
     "data": {
      "text/html": [
       "<div>\n",
       "<style scoped>\n",
       "    .dataframe tbody tr th:only-of-type {\n",
       "        vertical-align: middle;\n",
       "    }\n",
       "\n",
       "    .dataframe tbody tr th {\n",
       "        vertical-align: top;\n",
       "    }\n",
       "\n",
       "    .dataframe thead th {\n",
       "        text-align: right;\n",
       "    }\n",
       "</style>\n",
       "<table border=\"1\" class=\"dataframe\">\n",
       "  <thead>\n",
       "    <tr style=\"text-align: right;\">\n",
       "      <th></th>\n",
       "      <th>Produto</th>\n",
       "      <th>Quantidade</th>\n",
       "      <th>Preco_Unitario</th>\n",
       "      <th>Valor_Total</th>\n",
       "      <th>Data</th>\n",
       "      <th>Estado</th>\n",
       "    </tr>\n",
       "  </thead>\n",
       "  <tbody>\n",
       "    <tr>\n",
       "      <th>1855</th>\n",
       "      <td>Produto 3</td>\n",
       "      <td>6</td>\n",
       "      <td>NaN</td>\n",
       "      <td>109.20</td>\n",
       "      <td>16/03/2023 01:03</td>\n",
       "      <td>AM</td>\n",
       "    </tr>\n",
       "    <tr>\n",
       "      <th>1856</th>\n",
       "      <td>Produto 6</td>\n",
       "      <td>10</td>\n",
       "      <td>NaN</td>\n",
       "      <td>102.40</td>\n",
       "      <td>30/04/2023 11:03</td>\n",
       "      <td>RS</td>\n",
       "    </tr>\n",
       "    <tr>\n",
       "      <th>1857</th>\n",
       "      <td>Produto 7</td>\n",
       "      <td>3</td>\n",
       "      <td>NaN</td>\n",
       "      <td>102.09</td>\n",
       "      <td>31/03/2023 01:03</td>\n",
       "      <td>RS</td>\n",
       "    </tr>\n",
       "    <tr>\n",
       "      <th>1858</th>\n",
       "      <td>Produto 7</td>\n",
       "      <td>1</td>\n",
       "      <td>NaN</td>\n",
       "      <td>38.50</td>\n",
       "      <td>25/05/2023 16:03</td>\n",
       "      <td>BA</td>\n",
       "    </tr>\n",
       "    <tr>\n",
       "      <th>1859</th>\n",
       "      <td>Produto 7</td>\n",
       "      <td>8</td>\n",
       "      <td>NaN</td>\n",
       "      <td>332.48</td>\n",
       "      <td>29/10/2023 12:03</td>\n",
       "      <td>MG</td>\n",
       "    </tr>\n",
       "  </tbody>\n",
       "</table>\n",
       "</div>"
      ],
      "text/plain": [
       "        Produto  Quantidade  Preco_Unitario  Valor_Total              Data  \\\n",
       "1855  Produto 3           6             NaN       109.20  16/03/2023 01:03   \n",
       "1856  Produto 6          10             NaN       102.40  30/04/2023 11:03   \n",
       "1857  Produto 7           3             NaN       102.09  31/03/2023 01:03   \n",
       "1858  Produto 7           1             NaN        38.50  25/05/2023 16:03   \n",
       "1859  Produto 7           8             NaN       332.48  29/10/2023 12:03   \n",
       "\n",
       "     Estado  \n",
       "1855     AM  \n",
       "1856     RS  \n",
       "1857     RS  \n",
       "1858     BA  \n",
       "1859     MG  "
      ]
     },
     "execution_count": 16,
     "metadata": {},
     "output_type": "execute_result"
    }
   ],
   "source": [
    "#Criando outro dataframe só com NA ou null\n",
    "df1 = df[df.isna().any(axis=1)]\n",
    "df1.tail()"
   ]
  },
  {
   "cell_type": "code",
   "execution_count": 93,
   "id": "c5d9fc85-7e4b-4c14-85cc-e75f9b8ae6af",
   "metadata": {},
   "outputs": [
    {
     "data": {
      "text/plain": [
       "np.int64(31)"
      ]
     },
     "execution_count": 93,
     "metadata": {},
     "output_type": "execute_result"
    }
   ],
   "source": [
    "#Verificando duplicados\n",
    "duplicados = df.duplicated()\n",
    "duplicados.sum()\n"
   ]
  },
  {
   "cell_type": "code",
   "execution_count": 112,
   "id": "c4c2348f-39e3-4591-8223-e13416d26e44",
   "metadata": {},
   "outputs": [
    {
     "data": {
      "text/plain": [
       "np.int64(0)"
      ]
     },
     "execution_count": 112,
     "metadata": {},
     "output_type": "execute_result"
    }
   ],
   "source": [
    "#df = df.drop_duplicates()\n",
    "nao_dup = df.duplicated()\n",
    "nao_dup.sum()"
   ]
  },
  {
   "cell_type": "code",
   "execution_count": 97,
   "id": "c21a6059-ec0b-4664-bd32-25170936ae26",
   "metadata": {},
   "outputs": [],
   "source": [
    "#Duplicados tem que ser depois do tratamento dos dados NA\n",
    "df['Valor_Total'] = df['Valor_Total'].where(\n",
    "    df['Valor_Total'].notna(),  # Mantém os valores não NaN\n",
    "    other=df['Quantidade'] * df['Preco_Unitario']  # Substitui NaN pelo produto\n",
    ")\n",
    "\n"
   ]
  },
  {
   "cell_type": "code",
   "execution_count": 98,
   "id": "aa0233bf-8e1f-4633-a39c-e6fd0f805e2b",
   "metadata": {},
   "outputs": [],
   "source": [
    "df['Preco_Unitario'] = df['Preco_Unitario'].where(\n",
    "    df['Preco_Unitario'].notna(),  # Mantém os valores não NaN\n",
    "    other=df['Valor_Total'] / df['Quantidade']  # Substitui NaN pelo produto\n",
    ")"
   ]
  },
  {
   "cell_type": "code",
   "execution_count": 99,
   "id": "6dad9ead-4ce0-4cf4-9b63-441e87ba1de0",
   "metadata": {},
   "outputs": [
    {
     "data": {
      "text/plain": [
       "Produto           5\n",
       "Quantidade        0\n",
       "Preco_Unitario    0\n",
       "Valor_Total       0\n",
       "Data              0\n",
       "Estado            0\n",
       "dtype: int64"
      ]
     },
     "execution_count": 99,
     "metadata": {},
     "output_type": "execute_result"
    }
   ],
   "source": [
    "df.isna().sum()"
   ]
  },
  {
   "cell_type": "code",
   "execution_count": 100,
   "id": "d164e831-23cd-4112-b836-395faa88d143",
   "metadata": {},
   "outputs": [],
   "source": [
    "df=df.dropna(subset=['Produto'])"
   ]
  },
  {
   "cell_type": "code",
   "execution_count": 111,
   "id": "36f1a378-b39f-4f4f-baaf-f363ee451a22",
   "metadata": {},
   "outputs": [
    {
     "data": {
      "text/plain": [
       "Produto           0\n",
       "Quantidade        0\n",
       "Preco_Unitario    0\n",
       "Valor_Total       0\n",
       "Data              0\n",
       "Estado            0\n",
       "dtype: int64"
      ]
     },
     "execution_count": 111,
     "metadata": {},
     "output_type": "execute_result"
    }
   ],
   "source": [
    "df.isna().sum()"
   ]
  },
  {
   "cell_type": "code",
   "execution_count": 102,
   "id": "d3ac0bf2-5a20-4bee-a884-2af85756a257",
   "metadata": {},
   "outputs": [
    {
     "name": "stdout",
     "output_type": "stream",
     "text": [
      "Média do valor das vendas para SP: R$ 111.33\n"
     ]
    }
   ],
   "source": [
    "#Qual é a média do valor das vendas de todos os produtos destinados ao Estado de São Paulo (SP)\n",
    "#Primeiro filtrar\n",
    "df_sp = df[df[\"Estado\"] == \"SP\"]\n",
    "#Agora obter media\n",
    "media_vendas_sp = df_sp[\"Valor_Total\"].mean()\n",
    "print(f\"Média do valor das vendas para SP: R$ {media_vendas_sp:.2f}\")"
   ]
  },
  {
   "cell_type": "code",
   "execution_count": 110,
   "id": "6875da60-f6a0-4d1e-abcc-7cb20a721104",
   "metadata": {},
   "outputs": [
    {
     "name": "stdout",
     "output_type": "stream",
     "text": [
      "Desvio padrão da quantidade de produtos vendidos em PE: 2.88\n"
     ]
    }
   ],
   "source": [
    "#Qual é o desvio padrão da quantidade unitária para todos os produtos vendidos no Estado de Pernambuco (PE)?\n",
    "df_pe = df[df['Estado'] == 'PE']\n",
    "\n",
    "# Calcular o desvio padrão da coluna Quantidade\n",
    "desvio_padrao_pe = df_pe['Quantidade'].std()\n",
    "\n",
    "print(f\"Desvio padrão da quantidade de produtos vendidos em PE: {desvio_padrao_pe:.2f}\")"
   ]
  },
  {
   "cell_type": "code",
   "execution_count": 104,
   "id": "67b72e5a-d2cc-4e9b-807d-e6f03e64cb55",
   "metadata": {},
   "outputs": [
    {
     "name": "stdout",
     "output_type": "stream",
     "text": [
      "Valor maximo de venda para SC: 356.2\n"
     ]
    }
   ],
   "source": [
    "#Valor maximo de venda no Estado de SC\n",
    "df_sc = df[df[\"Estado\"] == \"SC\"]\n",
    "maximo_sc = df_sc[\"Valor_Total\"].max()\n",
    "print(f\"Valor maximo de venda para SC: {maximo_sc:}\")"
   ]
  },
  {
   "cell_type": "code",
   "execution_count": 105,
   "id": "e59fc5a3-f505-48d4-90aa-6e894e6b7472",
   "metadata": {},
   "outputs": [
    {
     "name": "stdout",
     "output_type": "stream",
     "text": [
      "Total de unidades por produto:\n",
      "Produto\n",
      "Produto 1     1117\n",
      "Produto 10    1074\n",
      "Produto 2     1170\n",
      "Produto 3     1180\n",
      "Produto 4     1006\n",
      "Produto 5     1163\n",
      "Produto 6     1163\n",
      "Produto 7      993\n",
      "Produto 8     1036\n",
      "Produto 9      987\n",
      "Name: Quantidade, dtype: int64\n",
      "\n",
      "Produto mais vendido: Produto 3\n",
      "Total de unidades vendidas: 1180\n"
     ]
    }
   ],
   "source": [
    "#Calcule a soma da coluna \"Quantidade\" para todos os produtos e responda: qual produto teve o maior total de unidades vendidas?\n",
    "total_por_produto = df.groupby('Produto')['Quantidade'].sum()\n",
    "produto_mais_vendido = total_por_produto.idxmax()\n",
    "maior_quantidade = total_por_produto.max()\n",
    "print(\"Total de unidades por produto:\")\n",
    "print(total_por_produto)\n",
    "print(\"\\nProduto mais vendido:\", produto_mais_vendido)\n",
    "print(\"Total de unidades vendidas:\", maior_quantidade)"
   ]
  },
  {
   "cell_type": "code",
   "execution_count": 106,
   "id": "bf957401-b03d-42b1-8e40-4cb545b97f50",
   "metadata": {},
   "outputs": [
    {
     "name": "stdout",
     "output_type": "stream",
     "text": [
      "Média da quantidade vendida para o Produto 8 em Pernambuco: 5.409090909090909\n"
     ]
    }
   ],
   "source": [
    "#Qual é a média da quantidade vendida para o Produto 8 no Estado de Pernambuco (PE)?\n",
    "df_md_pe =  df[(df['Produto'] == 'Produto 8') & (df['Estado'] == 'PE')]\n",
    "media_prod_pe = df_md_pe[\"Quantidade\"].mean()\n",
    "print(f\"Média da quantidade vendida para o Produto 8 em Pernambuco: {media_prod_pe}\")\n"
   ]
  },
  {
   "cell_type": "code",
   "execution_count": 107,
   "id": "4a690c6e-35cd-4317-a215-ac478fc86eb8",
   "metadata": {},
   "outputs": [
    {
     "name": "stdout",
     "output_type": "stream",
     "text": [
      "soma do valor da venda para todos os produtos vendidos para os estados de MG e SP: 43289.45\n"
     ]
    }
   ],
   "source": [
    "#Qual é a soma do valor da venda para todos os produtos vendidos para os estados de MG e SP?\n",
    "filtro_mg_sp = df[df['Estado'].isin(['MG', 'SP'])]\n",
    "soma_valor_total_mg_sp = filtro_mg_sp['Valor_Total'].sum()\n",
    "print(f\"soma do valor da venda para todos os produtos vendidos para os estados de MG e SP: {soma_valor_total_mg_sp}\")"
   ]
  },
  {
   "cell_type": "code",
   "execution_count": 108,
   "id": "a311f350-5a26-46b5-a1b7-46f4ea08bdbb",
   "metadata": {},
   "outputs": [
    {
     "name": "stdout",
     "output_type": "stream",
     "text": [
      "Média do Valor Total nos estados do Nordeste: R$ 114.19\n"
     ]
    }
   ],
   "source": [
    "#Calcule a média da coluna \"Valor Total\" para todos os produtos que estão disponíveis nos estados de AL, BA, CE, MA, PB, PE, PI, RN, SE.\n",
    "estados_nordeste = ['AL', 'BA', 'CE', 'MA', 'PB', 'PE', 'PI', 'RN', 'SE']\n",
    "\n",
    "# Filtrar o DataFrame para os estados do Nordeste\n",
    "df_nordeste = df[df['Estado'].isin(estados_nordeste)]\n",
    "\n",
    "# Calcular a média do Valor Total para esses estados\n",
    "media_valor_total_nordeste = df_nordeste['Valor_Total'].mean()\n",
    "print(f\"Média do Valor Total nos estados do Nordeste: R$ {media_valor_total_nordeste:,.2f}\")\n"
   ]
  },
  {
   "cell_type": "code",
   "execution_count": null,
   "id": "003d42ad-78e3-46ee-8958-eaaa43aee523",
   "metadata": {},
   "outputs": [],
   "source": []
  }
 ],
 "metadata": {
  "kernelspec": {
   "display_name": "analise_dados",
   "language": "python",
   "name": "analise_dados"
  },
  "language_info": {
   "codemirror_mode": {
    "name": "ipython",
    "version": 3
   },
   "file_extension": ".py",
   "mimetype": "text/x-python",
   "name": "python",
   "nbconvert_exporter": "python",
   "pygments_lexer": "ipython3",
   "version": "3.12.2"
  }
 },
 "nbformat": 4,
 "nbformat_minor": 5
}
